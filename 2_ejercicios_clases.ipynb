{
 "cells": [
  {
   "cell_type": "markdown",
   "id": "e1b59fb7",
   "metadata": {},
   "source": [
    "## Continuación de los ejercicios del curso\n",
    "\n",
    "**Ciclos avanzados, módulos, OOP, librerías, archivos avanzados**"
   ]
  },
  {
   "cell_type": "code",
   "execution_count": 17,
   "id": "26c08ed1",
   "metadata": {},
   "outputs": [
    {
     "name": "stdout",
     "output_type": "stream",
     "text": [
      "m\n",
      "u\n",
      "r\n",
      "c\n",
      "i\n",
      "STOP. Se encontró la é\n"
     ]
    }
   ],
   "source": [
    "# en bucles for\n",
    "string = 'murciélago'\n",
    "for letter in string:\n",
    "    if letter == 'é':\n",
    "        print(f\"STOP. Se encontró la {letter}\")\n",
    "        break\n",
    "    print(letter)"
   ]
  },
  {
   "cell_type": "code",
   "execution_count": 16,
   "id": "96dc2fe0",
   "metadata": {},
   "outputs": [
    {
     "name": "stdout",
     "output_type": "stream",
     "text": [
      "u\n",
      "r\n",
      "c\n",
      "i\n",
      "é\n",
      "l\n",
      "a\n",
      "g\n",
      "o\n"
     ]
    }
   ],
   "source": [
    "string = 'murciélago'\n",
    "for letter in string:\n",
    "    if letter == 'm':\n",
    "        continue\n",
    "    print(letter)"
   ]
  },
  {
   "cell_type": "markdown",
   "id": "6bb3310a",
   "metadata": {},
   "source": [
    "**Módulos**"
   ]
  },
  {
   "cell_type": "code",
   "execution_count": 26,
   "id": "c59c4755",
   "metadata": {
    "scrolled": true
   },
   "outputs": [
    {
     "name": "stdout",
     "output_type": "stream",
     "text": [
      "El precio de un lavarropa de 50000 con 40% de descuento es de 30000.0! Yendoo!\n",
      "El total del carrito es 70724\n"
     ]
    }
   ],
   "source": [
    "# Importar el modulo llamado \"utilidades\"\n",
    "\n",
    "import utilidades # lo creamos como utilidades.py. Lo lee del path de trabajo\n",
    "\n",
    "print(f\"El precio de un lavarropa de 50000 con 40% de descuento es de {utilidades.precio_con_descuento(50000, 40)}! Yendoo!\")\n",
    "print(f\"El total del carrito es {utilidades.suma_lista([70000,222,502])}\")\n"
   ]
  },
  {
   "cell_type": "markdown",
   "id": "e220cdea",
   "metadata": {},
   "source": [
    "Ver [datetime](https://docs.python.org/es/3/library/datetime.html)."
   ]
  },
  {
   "cell_type": "code",
   "execution_count": 52,
   "id": "1d41be25",
   "metadata": {},
   "outputs": [
    {
     "name": "stdout",
     "output_type": "stream",
     "text": [
      "Hoy es 2022-09-09.\n"
     ]
    }
   ],
   "source": [
    "import datetime\n",
    "today = datetime.date.today()\n",
    "print(f\"Hoy es {today}.\")"
   ]
  },
  {
   "cell_type": "code",
   "execution_count": 50,
   "id": "edec2fa6",
   "metadata": {},
   "outputs": [
    {
     "data": {
      "text/plain": [
       "-41"
      ]
     },
     "execution_count": 50,
     "metadata": {},
     "output_type": "execute_result"
    }
   ],
   "source": [
    "my_birthday = date(today.year, 7, 30)\n",
    "time_to_birthday = my_birthday - today\n",
    "time_to_birthday.days"
   ]
  },
  {
   "cell_type": "code",
   "execution_count": 68,
   "id": "d2d63a09",
   "metadata": {},
   "outputs": [
    {
     "name": "stdout",
     "output_type": "stream",
     "text": [
      "Hoy es 2022-09-09 18:21:12.839047.\n"
     ]
    }
   ],
   "source": [
    "ahora = datetime.datetime.now()\n",
    "print(f\"Hoy es {ahora}.\")"
   ]
  },
  {
   "cell_type": "code",
   "execution_count": 92,
   "id": "5413eb50",
   "metadata": {},
   "outputs": [
    {
     "data": {
      "text/plain": [
       "datetime.date(2022, 9, 9)"
      ]
     },
     "execution_count": 92,
     "metadata": {},
     "output_type": "execute_result"
    }
   ],
   "source": [
    "ahora.year\n",
    "ahora.hour\n",
    "ahora.minute\n",
    "ahora.date()"
   ]
  },
  {
   "cell_type": "code",
   "execution_count": 6,
   "id": "00a69e33",
   "metadata": {},
   "outputs": [
    {
     "ename": "Error",
     "evalue": "unsupported locale setting",
     "output_type": "error",
     "traceback": [
      "\u001b[0;31m---------------------------------------------------------------------------\u001b[0m",
      "\u001b[0;31mError\u001b[0m                                     Traceback (most recent call last)",
      "\u001b[0;32m/tmp/ipykernel_15881/1021250922.py\u001b[0m in \u001b[0;36m<module>\u001b[0;34m\u001b[0m\n\u001b[1;32m      1\u001b[0m \u001b[0;32mimport\u001b[0m \u001b[0mlocale\u001b[0m\u001b[0;34m\u001b[0m\u001b[0;34m\u001b[0m\u001b[0m\n\u001b[1;32m      2\u001b[0m \u001b[0;31m# con esto solucioné un error https://linuxpip.org/fix-python-locale-error/#How_to_fix_localeError_quickly\u001b[0m\u001b[0;34m\u001b[0m\u001b[0;34m\u001b[0m\u001b[0;34m\u001b[0m\u001b[0m\n\u001b[0;32m----> 3\u001b[0;31m \u001b[0mlocale\u001b[0m\u001b[0;34m.\u001b[0m\u001b[0msetlocale\u001b[0m\u001b[0;34m(\u001b[0m\u001b[0mlocale\u001b[0m\u001b[0;34m.\u001b[0m\u001b[0mLC_TIME\u001b[0m\u001b[0;34m,\u001b[0m \u001b[0;34m\"es_AR\"\u001b[0m\u001b[0;34m)\u001b[0m\u001b[0;34m\u001b[0m\u001b[0;34m\u001b[0m\u001b[0m\n\u001b[0m\u001b[1;32m      4\u001b[0m \u001b[0mx\u001b[0m \u001b[0;34m=\u001b[0m \u001b[0mdatetime\u001b[0m\u001b[0;34m.\u001b[0m\u001b[0mdatetime\u001b[0m\u001b[0;34m.\u001b[0m\u001b[0mnow\u001b[0m\u001b[0;34m(\u001b[0m\u001b[0;34m)\u001b[0m\u001b[0;34m\u001b[0m\u001b[0;34m\u001b[0m\u001b[0m\n\u001b[1;32m      5\u001b[0m \u001b[0mx\u001b[0m \u001b[0;34m=\u001b[0m \u001b[0mx\u001b[0m\u001b[0;34m.\u001b[0m\u001b[0mstrftime\u001b[0m\u001b[0;34m(\u001b[0m\u001b[0;34m\"%A, %d de %B %Y a las %I:%M %p\"\u001b[0m\u001b[0;34m)\u001b[0m\u001b[0;34m\u001b[0m\u001b[0;34m\u001b[0m\u001b[0m\n",
      "\u001b[0;32m/usr/lib/python3.8/locale.py\u001b[0m in \u001b[0;36msetlocale\u001b[0;34m(category, locale)\u001b[0m\n\u001b[1;32m    606\u001b[0m         \u001b[0;31m# convert to string\u001b[0m\u001b[0;34m\u001b[0m\u001b[0;34m\u001b[0m\u001b[0;34m\u001b[0m\u001b[0m\n\u001b[1;32m    607\u001b[0m         \u001b[0mlocale\u001b[0m \u001b[0;34m=\u001b[0m \u001b[0mnormalize\u001b[0m\u001b[0;34m(\u001b[0m\u001b[0m_build_localename\u001b[0m\u001b[0;34m(\u001b[0m\u001b[0mlocale\u001b[0m\u001b[0;34m)\u001b[0m\u001b[0;34m)\u001b[0m\u001b[0;34m\u001b[0m\u001b[0;34m\u001b[0m\u001b[0m\n\u001b[0;32m--> 608\u001b[0;31m     \u001b[0;32mreturn\u001b[0m \u001b[0m_setlocale\u001b[0m\u001b[0;34m(\u001b[0m\u001b[0mcategory\u001b[0m\u001b[0;34m,\u001b[0m \u001b[0mlocale\u001b[0m\u001b[0;34m)\u001b[0m\u001b[0;34m\u001b[0m\u001b[0;34m\u001b[0m\u001b[0m\n\u001b[0m\u001b[1;32m    609\u001b[0m \u001b[0;34m\u001b[0m\u001b[0m\n\u001b[1;32m    610\u001b[0m \u001b[0;32mdef\u001b[0m \u001b[0mresetlocale\u001b[0m\u001b[0;34m(\u001b[0m\u001b[0mcategory\u001b[0m\u001b[0;34m=\u001b[0m\u001b[0mLC_ALL\u001b[0m\u001b[0;34m)\u001b[0m\u001b[0;34m:\u001b[0m\u001b[0;34m\u001b[0m\u001b[0;34m\u001b[0m\u001b[0m\n",
      "\u001b[0;31mError\u001b[0m: unsupported locale setting"
     ]
    }
   ],
   "source": [
    "import locale\n",
    "# con esto solucioné un error https://linuxpip.org/fix-python-locale-error/#How_to_fix_localeError_quickly\n",
    "locale.setlocale(locale.LC_TIME, \"es_AR\")\n",
    "x = datetime.datetime.now()\n",
    "x = x.strftime(\"%A, %d de %B %Y a las %I:%M %p\")\n",
    "print(x)"
   ]
  },
  {
   "cell_type": "code",
   "execution_count": 107,
   "id": "2174d313",
   "metadata": {
    "scrolled": true
   },
   "outputs": [
    {
     "data": {
      "text/plain": [
       "datetime.datetime(2022, 8, 30, 19, 15)"
      ]
     },
     "execution_count": 107,
     "metadata": {},
     "output_type": "execute_result"
    }
   ],
   "source": [
    "y = datetime.datetime.strptime(\"30/08/2022, 19:15\", \"%d/%m/%Y, %H:%M\")\n",
    "y"
   ]
  },
  {
   "cell_type": "markdown",
   "id": "6fc43dd2",
   "metadata": {},
   "source": [
    "### OOP\n",
    "\n",
    "La **programación orientada a objetos** está basada en 6 principios o pilares básicos:\n",
    "\n",
    "- Herencia\n",
    "- Cohesión\n",
    "- Abstracción\n",
    "- Polimorfismo\n",
    "- Acoplamiento\n",
    "- Encapsulamiento"
   ]
  },
  {
   "cell_type": "code",
   "execution_count": 30,
   "id": "4a705eee",
   "metadata": {},
   "outputs": [],
   "source": [
    "class Obrera:\n",
    "    #atributo de clase\n",
    "    posesion = \"fuerza de trabajo\"    \n",
    "    # El método __init__ es llamado al crear el objeto\n",
    "    def __init__(self, rubro, actividad, posicion):\n",
    "        print(f\"Trabajador de {rubro}, {actividad}, cuya posición es {posicion}.\")\n",
    "        # Atributos de instancia\n",
    "        self.rubro = rubro\n",
    "        self.actividad = actividad\n",
    "        self.posicion = posicion\n",
    "    \n",
    "    def trabaja(self):\n",
    "        print(\"transformo materia prima en un producto mediante mi fuerza de trabajo, habilidades, etc.\")\n",
    "        \n",
    "    def hora_social(self, int(horas):\n",
    "        print(f\"Aplico {horas})\n",
    "        \n",
    "class Burguesia:\n",
    "    posesion = \"medios produccion\"\n",
    "    def __init__(self, empresa, cargo,posicion):\n",
    "        print(f\"Dueño de {empresa} como {cargo}, cuya posición es {posicion}.\")        \n",
    "        self.empresa = empresa\n",
    "        self.cargo = cargo\n",
    "        self.posicion = posicion"
   ]
  },
  {
   "cell_type": "code",
   "execution_count": 31,
   "id": "00d78bd3",
   "metadata": {
    "scrolled": true
   },
   "outputs": [
    {
     "name": "stdout",
     "output_type": "stream",
     "text": [
      "Trabajador de mecanica, torneria, cuya posición es subordinado.\n",
      "<class '__main__.Obrera'>\n"
     ]
    }
   ],
   "source": [
    "trabajador1 = Obrera(\"mecanica\", \"torneria\", \"subordinado\")\n",
    "print(type(trabajador1))"
   ]
  },
  {
   "cell_type": "code",
   "execution_count": 32,
   "id": "687d5f75",
   "metadata": {},
   "outputs": [
    {
     "name": "stdout",
     "output_type": "stream",
     "text": [
      "fuerza de trabajo\n"
     ]
    }
   ],
   "source": [
    "print(trabajador1.posesion)"
   ]
  },
  {
   "cell_type": "code",
   "execution_count": 33,
   "id": "7455b42b",
   "metadata": {},
   "outputs": [
    {
     "name": "stdout",
     "output_type": "stream",
     "text": [
      "Dueño de Electronics XXI como CEO, cuya posición es dominante.\n",
      "<class '__main__.Burguesia'>\n"
     ]
    }
   ],
   "source": [
    "jefe1 = Burguesia(\"Electronics XXI\", \"CEO\", \"dominante\")\n",
    "print(type(jefe1))"
   ]
  },
  {
   "cell_type": "code",
   "execution_count": 34,
   "id": "c60bd8af",
   "metadata": {},
   "outputs": [
    {
     "name": "stdout",
     "output_type": "stream",
     "text": [
      "medios produccion\n"
     ]
    }
   ],
   "source": [
    "print(jefe1.posesion)"
   ]
  }
 ],
 "metadata": {
  "kernelspec": {
   "display_name": "Python 3 (ipykernel)",
   "language": "python",
   "name": "python3"
  },
  "language_info": {
   "codemirror_mode": {
    "name": "ipython",
    "version": 3
   },
   "file_extension": ".py",
   "mimetype": "text/x-python",
   "name": "python",
   "nbconvert_exporter": "python",
   "pygments_lexer": "ipython3",
   "version": "3.8.10"
  }
 },
 "nbformat": 4,
 "nbformat_minor": 5
}
