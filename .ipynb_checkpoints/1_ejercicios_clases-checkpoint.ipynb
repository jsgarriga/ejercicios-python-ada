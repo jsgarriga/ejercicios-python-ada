{
 "cells": [
  {
   "cell_type": "markdown",
   "metadata": {},
   "source": [
    "# Intro a la programación en Python"
   ]
  },
  {
   "cell_type": "markdown",
   "metadata": {},
   "source": [
    "## Ejercicios del Curso de Introducción a Python de ADA TW\n",
    "\n",
    "Los realizo en un notebook a fin de documentar con mayor comodidad."
   ]
  },
  {
   "cell_type": "markdown",
   "metadata": {},
   "source": [
    "Apuntes y ejercicios en la [página del curso](https://twoda-intro-python-mt.onrender.com/docs/modulo-1-intro-python/clase-01)."
   ]
  },
  {
   "cell_type": "markdown",
   "metadata": {},
   "source": [
    "**Variables, funciones, datos y operadores**"
   ]
  },
  {
   "cell_type": "code",
   "execution_count": 42,
   "metadata": {},
   "outputs": [
    {
     "name": "stdout",
     "output_type": "stream",
     "text": [
      "60\n",
      "Su peso en la Tierra es 60 kg.\n"
     ]
    }
   ],
   "source": [
    "# https://www.geeksforgeeks.org/how-to-take-integer-input-in-python/\n",
    "peso = int(input()) # hacemos casting\n",
    "print(\"Su peso en la Tierra es\", peso, \"kg.\")\n",
    "proporcion_luna = 6\n",
    "proporcion_mercurio = 3"
   ]
  },
  {
   "cell_type": "code",
   "execution_count": 43,
   "metadata": {},
   "outputs": [
    {
     "name": "stdout",
     "output_type": "stream",
     "text": [
      "10.0\n",
      "20.0\n"
     ]
    }
   ],
   "source": [
    "def calculadora_de_peso(peso, proporcion): # nombre y parámetros\n",
    "    peso = peso / proporcion # sentencia\n",
    "    print(peso)\n",
    "\n",
    "calculadora_de_peso(peso, proporcion_luna)\n",
    "calculadora_de_peso(peso, proporcion_mercurio)"
   ]
  },
  {
   "cell_type": "markdown",
   "metadata": {},
   "source": [
    "## 1. Clase 12/7/22"
   ]
  },
  {
   "cell_type": "markdown",
   "metadata": {},
   "source": [
    "1. Solicito edad al user. Prueba boliche. `\\n` para agregar salto de línea:"
   ]
  },
  {
   "cell_type": "code",
   "execution_count": 1,
   "metadata": {},
   "outputs": [
    {
     "name": "stdout",
     "output_type": "stream",
     "text": [
      "ingrese su edad. \n",
      "43\n",
      "<class 'int'>\n"
     ]
    }
   ],
   "source": [
    "edad = int(input(\"ingrese su edad. \\n\")) # agregamos clase 'int': convierte lo ingresado en números enteros\n",
    "# imprime/muestra edad\n",
    "print(type(edad)) # 'type' devuelve el tipo de variable"
   ]
  },
  {
   "cell_type": "markdown",
   "metadata": {},
   "source": [
    "2. Agregamos los condicionales `if` y `else`:"
   ]
  },
  {
   "cell_type": "code",
   "execution_count": 2,
   "metadata": {},
   "outputs": [
    {
     "name": "stdout",
     "output_type": "stream",
     "text": [
      "dale\n"
     ]
    }
   ],
   "source": [
    "if edad >= 18:\n",
    "    print(\"dale\")\n",
    "else:\n",
    "    print(\"nope\")\n",
    "\n",
    "# >= nos da TypeError. NO nos toma números por 'edad'. Por eso agregamos el 'integer' y 'type'"
   ]
  },
  {
   "cell_type": "markdown",
   "metadata": {},
   "source": [
    "Con lo anterior probamos entrar una edad y responder según condiciones."
   ]
  },
  {
   "cell_type": "markdown",
   "metadata": {},
   "source": [
    "## 2. Clase 14/7/2022"
   ]
  },
  {
   "cell_type": "markdown",
   "metadata": {},
   "source": [
    "1. Estamos viendo __sintaxis__. Ahora vemos las _palabras reservadas_ del lenguaje, o sea que no se pueden usar:"
   ]
  },
  {
   "cell_type": "code",
   "execution_count": 3,
   "metadata": {},
   "outputs": [],
   "source": [
    "import keyword\n",
    "# print(keyword.kwlist) # esas son todas palabras claves del intérprete"
   ]
  },
  {
   "cell_type": "markdown",
   "metadata": {},
   "source": [
    "2. Vemos __variables__. En Python las variables no se declaran, se usan."
   ]
  },
  {
   "cell_type": "code",
   "execution_count": 29,
   "metadata": {
    "scrolled": true
   },
   "outputs": [
    {
     "name": "stdout",
     "output_type": "stream",
     "text": [
      "('6', '5')\n",
      "10\n"
     ]
    }
   ],
   "source": [
    "promo = '6', '5' # asignamos un valor. siempre en minúscula. Mayus para Constantes (no cambian)\n",
    "print(promo) # imprime lo que almacena la variable\n",
    "promo = '10'\n",
    "print(promo) # agregamos otro valor a la variable que los reemplaza"
   ]
  },
  {
   "cell_type": "markdown",
   "metadata": {},
   "source": [
    "3. Acá estoy probando con _variables_ y _condicionales_:"
   ]
  },
  {
   "cell_type": "code",
   "execution_count": 52,
   "metadata": {},
   "outputs": [
    {
     "name": "stdout",
     "output_type": "stream",
     "text": [
      "nope\n"
     ]
    }
   ],
   "source": [
    "cant = 40\n",
    "COMPRA = 20\n",
    "\n",
    "if cant > COMPRA: # usamos los : con los if para no usar llaves\n",
    "    print(\"nope\")"
   ]
  },
  {
   "cell_type": "markdown",
   "metadata": {},
   "source": [
    "4. Estamos con __funciones__. Hubo un error pero lo solucioné con [esto](https://es.stackoverflow.com/questions/279029/problema-b%C3%A0sico-typeerror-unsupported-operand-types-for-str-and-int)."
   ]
  },
  {
   "cell_type": "code",
   "execution_count": 4,
   "metadata": {},
   "outputs": [
    {
     "name": "stdout",
     "output_type": "stream",
     "text": [
      "Su peso 60\n",
      "20.0\n"
     ]
    }
   ],
   "source": [
    "proporcion_mercurio = 3\n",
    "peso = int(input(\"Su peso \")) # se recomienda agregar un mensaje para dar feedback. le agregamos \"int\" porque la respuesta de le user se convierte a string sin esa función\n",
    "peso = (peso) / proporcion_mercurio\n",
    "print(peso)"
   ]
  },
  {
   "cell_type": "markdown",
   "metadata": {},
   "source": [
    "5. Estamos haciendo __\"Prácticas\"__ del curso para __1) Variables - Datos - Operadores__. Dice Saludo: _Crear un programa que pida al usuario ingresar un nombre y apellido __por separado__, y luego muestre un mensaje que diga, \"Hola {nombre} {apellido}, bienvenida a Ada\"._"
   ]
  },
  {
   "cell_type": "code",
   "execution_count": 7,
   "metadata": {},
   "outputs": [
    {
     "name": "stdout",
     "output_type": "stream",
     "text": [
      "ingrese su nombre: \n",
      "Pepe\n",
      "tu apellido: \n",
      "Grillo\n",
      "Hola Pepe Grillo, bienvenide a Ada\n"
     ]
    }
   ],
   "source": [
    "# pedir nombre\n",
    "nombre = input(\"ingrese su nombre: \\n\")\n",
    "# apellido\n",
    "apellido = input(\"tu apellido: \\n\")\n",
    "# mensaje. suma de textos con string (hardcodeado)\n",
    "mensaje = \"Hola \" + nombre + \" \" + apellido + \", bienvenide a Ada\" # es una concatenación, no una suma matemática\n",
    "# imprimir\n",
    "print(mensaje)"
   ]
  },
  {
   "cell_type": "markdown",
   "metadata": {},
   "source": [
    "Ejercicio Heladería: _Crear un programa que pida al usuario ingresar, por separado, tres gustos de helado, y luego muestre un mensaje que diga, por ejemplo, \"Aquí tiene su helado de chocolate, dulce de leche y menta granizada\"._\n",
    "\n",
    "Es un `algoritmo de heladere` jaja."
   ]
  },
  {
   "cell_type": "code",
   "execution_count": 1,
   "metadata": {},
   "outputs": [
    {
     "name": "stdout",
     "output_type": "stream",
     "text": [
      "Elija su primer sabor de helado: \n",
      "choco\n",
      "Elija su segundo sabor de helado: \n",
      "vainilla\n",
      "Elija su tercer sabor de helado: \n",
      "frutilla\n",
      "Aquí tiene su helado de choco, vainilla y frutilla.\n"
     ]
    }
   ],
   "source": [
    "# gusto 1\n",
    "sabor1 = input(\"Elija su primer sabor de helado: \\n\")\n",
    "# gusto 2\n",
    "sabor2 = input(\"Elija su segundo sabor de helado: \\n\")\n",
    "# gusto 3\n",
    "sabor3 = input(\"Elija su tercer sabor de helado: \\n\")\n",
    "# mensaje\n",
    "mensaje = \"Aquí tiene su helado de \" + sabor1 + \", \" + sabor2 + \" y \" + sabor3 + \".\" # recordar de agregar todos los \"+\", y que también esté bien escrito gramatical y sintáxicamente.\n",
    "print(mensaje)"
   ]
  },
  {
   "cell_type": "code",
   "execution_count": 2,
   "metadata": {},
   "outputs": [
    {
     "name": "stdout",
     "output_type": "stream",
     "text": [
      "Elija su primer sabor de helado: \n",
      "limón\n",
      "Elija su segundo sabor de helado: \n",
      "menta\n",
      "Elija su tercer sabor de helado: \n",
      "chocolate\n",
      "Aquí tiene su helado de limón, menta y chocolate.\n"
     ]
    }
   ],
   "source": [
    "# otra forma con fstring. \"syntax sugar\"\n",
    "sabor1 = input(\"Elija su primer sabor de helado: \\n\")\n",
    "sabor2 = input(\"Elija su segundo sabor de helado: \\n\")\n",
    "sabor3 = input(\"Elija su tercer sabor de helado: \\n\")\n",
    "mensaje2 = f\"Aquí tiene su helado de {sabor1}, {sabor2} y {sabor3}.\" # no olvidar la `f`, si no no carga.\n",
    "print(mensaje2)"
   ]
  },
  {
   "cell_type": "markdown",
   "metadata": {},
   "source": [
    "## 3. Clase 19/7/22"
   ]
  },
  {
   "cell_type": "code",
   "execution_count": null,
   "metadata": {},
   "outputs": [],
   "source": [
    "edad = 22 # tipo entero\n",
    "print(edad)\n",
    "print(type(edad))"
   ]
  },
  {
   "cell_type": "code",
   "execution_count": 3,
   "metadata": {},
   "outputs": [
    {
     "name": "stdout",
     "output_type": "stream",
     "text": [
      "El perro es caniche y es de tipo <class 'str'>\n"
     ]
    }
   ],
   "source": [
    "perro = 'caniche' # tipo string\n",
    "print('El perro es', perro, 'y es de tipo', type(perro))"
   ]
  },
  {
   "cell_type": "code",
   "execution_count": 4,
   "metadata": {},
   "outputs": [
    {
     "data": {
      "text/plain": [
       "7"
      ]
     },
     "execution_count": 4,
     "metadata": {},
     "output_type": "execute_result"
    }
   ],
   "source": [
    "len(perro) # longitud cadena de texto. es una función nativa de python"
   ]
  },
  {
   "cell_type": "code",
   "execution_count": 14,
   "metadata": {},
   "outputs": [],
   "source": [
    "gato = 'siamés'"
   ]
  },
  {
   "cell_type": "code",
   "execution_count": 18,
   "metadata": {},
   "outputs": [
    {
     "data": {
      "text/plain": [
       "'caniche y siamés'"
      ]
     },
     "execution_count": 18,
     "metadata": {},
     "output_type": "execute_result"
    }
   ],
   "source": [
    "animales = perro + ' y ' + gato # concatenar\n",
    "animales"
   ]
  },
  {
   "cell_type": "code",
   "execution_count": 5,
   "metadata": {},
   "outputs": [
    {
     "data": {
      "text/plain": [
       "'pepe'"
      ]
     },
     "execution_count": 5,
     "metadata": {},
     "output_type": "execute_result"
    }
   ],
   "source": [
    "# variables listas <'list'>\n",
    "# suerte de cajonera. \n",
    "lista_gente = ['pepe', 'kaka', 'marcela', 3, 4.5, True] # podemos ir \"aumentando\" la memoria. \n",
    "# True es un objeto booleano. True or false\n",
    "lista_gente[0] # el número al que llamamos está indexado"
   ]
  },
  {
   "cell_type": "code",
   "execution_count": 6,
   "metadata": {},
   "outputs": [
    {
     "data": {
      "text/plain": [
       "['pepe', 'kaka', 'marcela', 3, 4.5, True, 'salchi']"
      ]
     },
     "execution_count": 6,
     "metadata": {},
     "output_type": "execute_result"
    }
   ],
   "source": [
    "# para agregar valores a la lista\n",
    "lista_gente.append('salchi')\n",
    "lista_gente"
   ]
  },
  {
   "cell_type": "code",
   "execution_count": 7,
   "metadata": {},
   "outputs": [
    {
     "data": {
      "text/plain": [
       "['pepe', 'kaka', 'marcela', 3, 4.5, True, 'salchi']"
      ]
     },
     "execution_count": 7,
     "metadata": {},
     "output_type": "execute_result"
    }
   ],
   "source": [
    "lista_gente"
   ]
  },
  {
   "cell_type": "code",
   "execution_count": 36,
   "metadata": {},
   "outputs": [],
   "source": [
    "# crear una lista de tabla\n",
    "header = ['prov', 'pob', 'temp']\n",
    "l1 = ['mza', 3453535, 35]\n",
    "l2 = ['bsas', 4734378, 49]"
   ]
  },
  {
   "cell_type": "code",
   "execution_count": 41,
   "metadata": {},
   "outputs": [
    {
     "name": "stdout",
     "output_type": "stream",
     "text": [
      "en mza hay una pob de 3453535 con una temp de 35\n"
     ]
    }
   ],
   "source": [
    "print('en', l1[0], 'hay una pob de', l1[1], 'con una temp de', l1[2])"
   ]
  },
  {
   "cell_type": "code",
   "execution_count": 42,
   "metadata": {},
   "outputs": [
    {
     "data": {
      "text/plain": [
       "7"
      ]
     },
     "execution_count": 42,
     "metadata": {},
     "output_type": "execute_result"
    }
   ],
   "source": [
    "len(lista_gente) # tomando el valor del agregado"
   ]
  },
  {
   "cell_type": "code",
   "execution_count": 8,
   "metadata": {},
   "outputs": [
    {
     "data": {
      "text/plain": [
       "['pepe', 'kaka', 'marcela']"
      ]
     },
     "execution_count": 8,
     "metadata": {},
     "output_type": "execute_result"
    }
   ],
   "source": [
    "# para recortar una lista\n",
    "nueva_lista = lista_gente[0:3:1] # val inicio : val final : cuantos saltos desde inicio. 1 porque va de uno en uno\n",
    "nueva_lista\n",
    "# también sirve para cadenas de texto"
   ]
  },
  {
   "cell_type": "code",
   "execution_count": 9,
   "metadata": {},
   "outputs": [
    {
     "data": {
      "text/plain": [
       "'fue una gata!'"
      ]
     },
     "execution_count": 9,
     "metadata": {},
     "output_type": "execute_result"
    }
   ],
   "source": [
    "papaya = 'eso no es verdad, un perro no se comió tu tarea: fue una gata!'\n",
    "pa = papaya[::]\n",
    "pa[49::]"
   ]
  },
  {
   "cell_type": "code",
   "execution_count": 78,
   "metadata": {},
   "outputs": [],
   "source": [
    "# booleanos\n",
    "vt = 'la naranja es anaranjada'\n",
    "vt = True\n",
    "vf = 'la banana es roja'\n",
    "vf = False\n",
    "# binario: lenguaje que entienden las máquinas"
   ]
  },
  {
   "cell_type": "code",
   "execution_count": 75,
   "metadata": {},
   "outputs": [
    {
     "data": {
      "text/plain": [
       "True"
      ]
     },
     "execution_count": 75,
     "metadata": {},
     "output_type": "execute_result"
    }
   ],
   "source": [
    "vt"
   ]
  },
  {
   "cell_type": "code",
   "execution_count": 76,
   "metadata": {},
   "outputs": [
    {
     "data": {
      "text/plain": [
       "False"
      ]
     },
     "execution_count": 76,
     "metadata": {},
     "output_type": "execute_result"
    }
   ],
   "source": [
    "vf"
   ]
  },
  {
   "cell_type": "code",
   "execution_count": 81,
   "metadata": {},
   "outputs": [
    {
     "data": {
      "text/plain": [
       "False"
      ]
     },
     "execution_count": 81,
     "metadata": {},
     "output_type": "execute_result"
    }
   ],
   "source": [
    "vt and vf # lógica de 2do de socio"
   ]
  },
  {
   "cell_type": "code",
   "execution_count": 87,
   "metadata": {},
   "outputs": [
    {
     "data": {
      "text/plain": [
       "True"
      ]
     },
     "execution_count": 87,
     "metadata": {},
     "output_type": "execute_result"
    }
   ],
   "source": [
    "vf or vt"
   ]
  },
  {
   "cell_type": "markdown",
   "metadata": {},
   "source": [
    "### Ejercicio: Datos personales\n",
    "\n",
    "* Crear un programa que pida al usuario ingresar, por separado, nombre, apellido, edad, nacionalidad, documento, y muestre luego un mensaje que diga: \"Nuevo usuario agregado al sistema:\" y liste todos los datos juntos."
   ]
  },
  {
   "cell_type": "code",
   "execution_count": 1,
   "metadata": {},
   "outputs": [
    {
     "name": "stdout",
     "output_type": "stream",
     "text": [
      "Ingrese su nombre \n",
      "pepe\n",
      "Ingrese su apellido \n",
      "gi\n",
      "Ingrese su edad \n",
      "34\n",
      "Ingrese su nacionalidad \n",
      "jaja\n",
      "Ingrese su documento \n",
      "3434534435\n",
      "Nuevo usuario agregado al sistema \n",
      " pepe gi 34 jaja 3434534435\n"
     ]
    }
   ],
   "source": [
    "name = input(\"Ingrese su nombre \\n\")\n",
    "surname = input(\"Ingrese su apellido \\n\")\n",
    "age = input(\"Ingrese su edad \\n\")\n",
    "nac = input(\"Ingrese su nacionalidad \\n\")\n",
    "dni = input(\"Ingrese su documento \\n\")\n",
    "\n",
    "print(\"Nuevo usuario agregado al sistema \\n\", name, surname, age, nac, dni)"
   ]
  },
  {
   "cell_type": "markdown",
   "metadata": {},
   "source": [
    "### Ejercicio: Lista de reproducción\n",
    "\n",
    "* Crear un programa que pida al usuario ingresar, por separado, el nombre de una playlist y el título de tres canciones, y al finalizar se muestre un mensaje que diga, p. ej.: \"Se ha creado la playlist 'Hits de los 80s' con las canciones 'Africa', 'Maniac', 'Final Countdown'\"."
   ]
  },
  {
   "cell_type": "code",
   "execution_count": 10,
   "metadata": {},
   "outputs": [
    {
     "name": "stdout",
     "output_type": "stream",
     "text": [
      "Ingresa un título para tu playlist: Hits de los 80s\n",
      "Agrega una canción: Africa\n",
      "Agrega una canción: Maniac\n",
      "Agrega una canción: Final Countdown\n",
      "Se ha creado la playlist Hits de los 80s con las canciones Africa, Maniac, Final Countdown\n"
     ]
    }
   ],
   "source": [
    "playlist = input(\"Ingresa un título para tu playlist: \")\n",
    "\n",
    "song_1 = input(\"Agrega una canción: \")\n",
    "song_2 = input(\"Agrega una canción: \")\n",
    "song_3 = input(\"Agrega una canción: \")\n",
    "\n",
    "print(\"Se ha creado la playlist {} con las canciones {}, {}, {}\".format(playlist, song_1, song_2, song_3))\n",
    "# format: función utilizada en cadenas de texto para pasarle datos"
   ]
  },
  {
   "cell_type": "markdown",
   "metadata": {},
   "source": [
    "* La función `format` en Python (str.format()) es una técnica de la categoría de cadenas que permite intentar hacer sustituciones de variables y formatear datos. Le permite concatenar partes de una cadena a intervalos deseados a través de un formato de datos puntual."
   ]
  },
  {
   "cell_type": "markdown",
   "metadata": {},
   "source": [
    "## 4. Clase 21/7/2022\n",
    "\n",
    "Estamos viendo _diccionarios_.\n",
    "\n",
    "ver https://rapidapi.com/hub para [covid19](https://rapidapi.com/api-sports/api/covid-193/).\n",
    "\n",
    "__API__: Microservicios de puntos de acceso abiertos, gratis y definidos al cual pedir solicitudes y recibir datos públicos.\n",
    "\n",
    "#### Prueba query"
   ]
  },
  {
   "cell_type": "code",
   "execution_count": 25,
   "metadata": {
    "scrolled": true
   },
   "outputs": [
    {
     "name": "stdout",
     "output_type": "stream",
     "text": [
      "<class 'list'>\n",
      "{'get': 'countries', 'parameters': [], 'errors': [], 'results': 235, 'response': ['Afghanistan', 'Albania', 'Algeria', 'Andorra', 'Angola', 'Anguilla', 'Antigua-and-Barbuda', 'Argentina', 'Armenia', 'Aruba', 'Australia', 'Austria', 'Azerbaijan', 'Bahamas', 'Bahrain', 'Bangladesh', 'Barbados', 'Belarus', 'Belgium', 'Belize', 'Benin', 'Bermuda', 'Bhutan', 'Bolivia', 'Bosnia-and-Herzegovina', 'Botswana', 'Brazil', 'British-Virgin-Islands', 'Brunei', 'Bulgaria', 'Burkina-Faso', 'Burundi', 'Cabo-Verde', 'Cambodia', 'Cameroon', 'Canada', 'CAR', 'Caribbean-Netherlands', 'Cayman-Islands', 'Chad', 'Channel-Islands', 'Chile', 'China', 'Colombia', 'Comoros', 'Congo', 'Cook-Islands', 'Costa-Rica', 'Croatia', 'Cuba', 'Cura&ccedil;ao', 'Cyprus', 'Czechia', 'Denmark', 'Diamond-Princess', 'Diamond-Princess-', 'Djibouti', 'Dominica', 'Dominican-Republic', 'DPRK', 'DRC', 'Ecuador', 'Egypt', 'El-Salvador', 'Equatorial-Guinea', 'Eritrea', 'Estonia', 'Eswatini', 'Ethiopia', 'Faeroe-Islands', 'Falkland-Islands', 'Fiji', 'Finland', 'France', 'French-Guiana', 'French-Polynesia', 'Gabon', 'Gambia', 'Georgia', 'Germany', 'Ghana', 'Gibraltar', 'Greece', 'Greenland', 'Grenada', 'Guadeloupe', 'Guam', 'Guatemala', 'Guinea', 'Guinea-Bissau', 'Guyana', 'Haiti', 'Honduras', 'Hong-Kong', 'Hungary', 'Iceland', 'India', 'Indonesia', 'Iran', 'Iraq', 'Ireland', 'Isle-of-Man', 'Israel', 'Italy', 'Ivory-Coast', 'Jamaica', 'Japan', 'Jordan', 'Kazakhstan', 'Kenya', 'Kiribati', 'Kuwait', 'Kyrgyzstan', 'Laos', 'Latvia', 'Lebanon', 'Lesotho', 'Liberia', 'Libya', 'Liechtenstein', 'Lithuania', 'Luxembourg', 'Macao', 'Madagascar', 'Malawi', 'Malaysia', 'Maldives', 'Mali', 'Malta', 'Marshall-Islands', 'Martinique', 'Mauritania', 'Mauritius', 'Mayotte', 'Mexico', 'Micronesia', 'Moldova', 'Monaco', 'Mongolia', 'Montenegro', 'Montserrat', 'Morocco', 'Mozambique', 'MS-Zaandam', 'MS-Zaandam-', 'Myanmar', 'Namibia', 'Nauru', 'Nepal', 'Netherlands', 'New-Caledonia', 'New-Zealand', 'Nicaragua', 'Niger', 'Nigeria', 'Niue', 'North-Macedonia', 'Norway', 'Oman', 'Pakistan', 'Palau', 'Palestine', 'Panama', 'Papua-New-Guinea', 'Paraguay', 'Peru', 'Philippines', 'Poland', 'Portugal', 'Puerto-Rico', 'Qatar', 'R&eacute;union', 'Romania', 'Russia', 'Rwanda', 'S-Korea', 'Saint-Helena', 'Saint-Kitts-and-Nevis', 'Saint-Lucia', 'Saint-Martin', 'Saint-Pierre-Miquelon', 'Samoa', 'San-Marino', 'Sao-Tome-and-Principe', 'Saudi-Arabia', 'Senegal', 'Serbia', 'Seychelles', 'Sierra-Leone', 'Singapore', 'Sint-Maarten', 'Slovakia', 'Slovenia', 'Solomon-Islands', 'Somalia', 'South-Africa', 'South-Sudan', 'Spain', 'Sri-Lanka', 'St-Barth', 'St-Vincent-Grenadines', 'Sudan', 'Suriname', 'Sweden', 'Switzerland', 'Syria', 'Taiwan', 'Tajikistan', 'Tanzania', 'Thailand', 'Timor-Leste', 'Togo', 'Tonga', 'Trinidad-and-Tobago', 'Tunisia', 'Turkey', 'Turks-and-Caicos', 'Tuvalu', 'UAE', 'Uganda', 'UK', 'Ukraine', 'Uruguay', 'US-Virgin-Islands', 'USA', 'Uzbekistan', 'Vanuatu', 'Vatican-City', 'Venezuela', 'Vietnam', 'Wallis-and-Futuna', 'Western-Sahara', 'Yemen', 'Zambia', 'Zimbabwe']}\n"
     ]
    }
   ],
   "source": [
    "import pprint\n",
    "import json\n",
    "\n",
    "import requests\n",
    "\n",
    "url = \"https://covid-193.p.rapidapi.com/countries\"\n",
    "\n",
    "headers = {\n",
    "\t\"X-RapidAPI-Key\": \"e19b39386dmsh0f3da243ce83ae0p1356f7jsn658330cccb16\",\n",
    "\t\"X-RapidAPI-Host\": \"covid-193.p.rapidapi.com\"\n",
    "}\n",
    "\n",
    "raw_response = requests.request(\"GET\", url, headers=headers)\n",
    "\n",
    "response_text = raw_response.text\n",
    "\n",
    "json_response = json.loads(raw_response.text)\n",
    "\n",
    "print(type(json_response['response']))\n",
    "\n",
    "print(json_response)"
   ]
  },
  {
   "cell_type": "code",
   "execution_count": 4,
   "metadata": {},
   "outputs": [
    {
     "name": "stdout",
     "output_type": "stream",
     "text": [
      "{\"contents\":[{\"type\":\"video\",\"video\":{\"badges\":[],\"isLiveNow\":false,\"lengthSeconds\":1232,\"movingThumbnails\":[{\"height\":180,\"url\":\"https:\\/\\/i.ytimg.com\\/an_webp\\/rjpXV4Fa90U\\/mqdefault_6s.webp?du=3000&sqp=CKOy55YG&rs=AOn4CLDDNpXMB2-1nuO-IzhbjeWvIMgU3Q\",\"width\":320}],\"publishedTimeText\":\"3 days ago\",\"stats\":{\"views\":256396},\"thumbnails\":[{\"height\":94,\"url\":\"https:\\/\\/i.ytimg.com\\/vi\\/rjpXV4Fa90U\\/hqdefault.jpg?sqp=-oaymwEbCKgBEF5IVfKriqkDDggBFQAAiEIYAXABwAEG&rs=AOn4CLAk3xkgkkiCAQYHjNZgK_9jmcNK-Q\",\"width\":168},{\"height\":110,\"url\":\"https:\\/\\/i.ytimg.com\\/vi\\/rjpXV4Fa90U\\/hqdefault.jpg?sqp=-oaymwEbCMQBEG5IVfKriqkDDggBFQAAiEIYAXABwAEG&rs=AOn4CLC8mL12Yj8QAF7rBqnB2auHqmv3lA\",\"width\":196},{\"height\":138,\"url\":\"https:\\/\\/i.ytimg.com\\/vi\\/rjpXV4Fa90U\\/hqdefault.jpg?sqp=-oaymwEcCPYBEIoBSFXyq4qpAw4IARUAAIhCGAFwAcABBg==&rs=AOn4CLCW3i7NocAE8mfTu6xP_FdMhqZ6ig\",\"width\":246},{\"height\":188,\"url\":\"https:\\/\\/i.ytimg.com\\/vi\\/rjpXV4Fa90U\\/hqdefault.jpg?sqp=-oaymwEcCNACELwBSFXyq4qpAw4IARUAAIhCGAFwAcABBg==&rs=AOn4CLAfGaBDjA8NDbngJ3TS5jtgJclEcA\",\"width\":336}],\"title\":\"LAS HISTORIAS M\\u00c1S PERTURBADORAS DE NUESTROS ABUELOS\",\"videoId\":\"rjpXV4Fa90U\"}},{\"type\":\"video\",\"video\":{\"badges\":[],\"isLiveNow\":false,\"lengthSeconds\":1277,\"movingThumbnails\":[{\"height\":180,\"url\":\"https:\\/\\/i.ytimg.com\\/an_webp\\/CGs4ekqZ1Ow\\/mqdefault_6s.webp?du=3000&sqp=CPz-5pYG&rs=AOn4CLBEtG_9zsghrX5001U1CSbe3GnSfg\",\"width\":320}],\"publishedTimeText\":\"6 days ago\",\"stats\":{\"views\":281890},\"thumbnails\":[{\"height\":94,\"url\":\"https:\\/\\/i.ytimg.com\\/vi\\/CGs4ekqZ1Ow\\/hqdefault.jpg?sqp=-oaymwEbCKgBEF5IVfKriqkDDggBFQAAiEIYAXABwAEG&rs=AOn4CLDUnSC_c69PYmHzihpYohoQ_U53vQ\",\"width\":168},{\"height\":110,\"url\":\"https:\\/\\/i.ytimg.com\\/vi\\/CGs4ekqZ1Ow\\/hqdefault.jpg?sqp=-oaymwEbCMQBEG5IVfKriqkDDggBFQAAiEIYAXABwAEG&rs=AOn4CLB9XkumbvfjOowDyvtAJltamAUuFg\",\"width\":196},{\"height\":138,\"url\":\"https:\\/\\/i.ytimg.com\\/vi\\/CGs4ekqZ1Ow\\/hqdefault.jpg?sqp=-oaymwEcCPYBEIoBSFXyq4qpAw4IARUAAIhCGAFwAcABBg==&rs=AOn4CLAGDnzZ_2EM-wa6mBt-zU7QSTMtvA\",\"width\":246},{\"height\":188,\"url\":\"https:\\/\\/i.ytimg.com\\/vi\\/CGs4ekqZ1Ow\\/hqdefault.jpg?sqp=-oaymwEcCNACELwBSFXyq4qpAw4IARUAAIhCGAFwAcABBg==&rs=AOn4CLDrOpOsoDhejTS-imxcs31CCI66IQ\",\"width\":336}],\"title\":\"NUNCA CORRAS DE NOCHE (Y OTRAS EXPERIENCIAS DE HORROR SOBRENATURAL)\",\"videoId\":\"CGs4ekqZ1Ow\"}},{\"type\":\"video\",\"video\":{\"badges\":[],\"isLiveNow\":false,\"lengthSeconds\":2618,\"movingThumbnails\":[{\"height\":180,\"url\":\"https:\\/\\/i.ytimg.com\\/an_webp\\/NpYvXl48e04\\/mqdefault_6s.webp?du=3000&sqp=CPiV55YG&rs=AOn4CLClC-EBsYSVde7UEfHerqFNoOW1aA\",\"width\":320}],\"publishedTimeText\":\"10 days ago\",\"stats\":{\"views\":391877},\"thumbnails\":[{\"height\":94,\"url\":\"https:\\/\\/i.ytimg.com\\/vi\\/NpYvXl48e04\\/hqdefault.jpg?sqp=-oaymwEbCKgBEF5IVfKriqkDDggBFQAAiEIYAXABwAEG&rs=AOn4CLAB3QIEdnKT-8WHNBY2oQqt45VGQw\",\"width\":168},{\"height\":110,\"url\":\"https:\\/\\/i.ytimg.com\\/vi\\/NpYvXl48e04\\/hqdefault.jpg?sqp=-oaymwEbCMQBEG5IVfKriqkDDggBFQAAiEIYAXABwAEG&rs=AOn4CLB6NhZAdXuQJYV9YtTAAWMKBrQgEg\",\"width\":196},{\"height\":138,\"url\":\"https:\\/\\/i.ytimg.com\\/vi\\/NpYvXl48e04\\/hqdefault.jpg?sqp=-oaymwEcCPYBEIoBSFXyq4qpAw4IARUAAIhCGAFwAcABBg==&rs=AOn4CLBfwRJPA56ZY04qd2VNsEgwBW8cjw\",\"width\":246},{\"height\":188,\"url\":\"https:\\/\\/i.ytimg.com\\/vi\\/NpYvXl48e04\\/hqdefault.jpg?sqp=-oaymwEcCNACELwBSFXyq4qpAw4IARUAAIhCGAFwAcABBg==&rs=AOn4CLBy40d3aG-8qugUF-G7ZbZM8ZlWig\",\"width\":336}],\"title\":\"CANASTA DE HISTORIAS DE HORROR VOL. 27\",\"videoId\":\"NpYvXl48e04\"}},{\"type\":\"video\",\"video\":{\"badges\":[],\"isLiveNow\":false,\"lengthSeconds\":1539,\"movingThumbnails\":[{\"height\":180,\"url\":\"https:\\/\\/i.ytimg.com\\/an_webp\\/y2oZhI1-Kms\\/mqdefault_6s.webp?du=3000&sqp=CKeX55YG&rs=AOn4CLDy7rT9DMkUVrZylymT_JzuuiY84g\",\"width\":320}],\"publishedTimeText\":\"13 days ago\",\"stats\":{\"views\":309575},\"thumbnails\":[{\"height\":94,\"url\":\"https:\\/\\/i.ytimg.com\\/vi\\/y2oZhI1-Kms\\/hqdefault.jpg?sqp=-oaymwEbCKgBEF5IVfKriqkDDggBFQAAiEIYAXABwAEG&rs=AOn4CLCuPrzm8itIy3XKvm85Zd1ZWGVoGw\",\"width\":168},{\"height\":110,\"url\":\"https:\\/\\/i.ytimg.com\\/vi\\/y2oZhI1-Kms\\/hqdefault.jpg?sqp=-oaymwEbCMQBEG5IVfKriqkDDggBFQAAiEIYAXABwAEG&rs=AOn4CLA4kXT_n01ayaVU9NwpSu3i9CTdwg\",\"width\":196},{\"height\":138,\"url\":\"https:\\/\\/i.ytimg.com\\/vi\\/y2oZhI1-Kms\\/hqdefault.jpg?sqp=-oaymwEcCPYBEIoBSFXyq4qpAw4IARUAAIhCGAFwAcABBg==&rs=AOn4CLDUpbn4Tq5WWXjjmJYD961iGfZVeA\",\"width\":246},{\"height\":188,\"url\":\"https:\\/\\/i.ytimg.com\\/vi\\/y2oZhI1-Kms\\/hqdefault.jpg?sqp=-oaymwEcCNACELwBSFXyq4qpAw4IARUAAIhCGAFwAcABBg==&rs=AOn4CLDhlx4nRo7XsX3S1uvWrOCzGULrsg\",\"width\":336}],\"title\":\"LA VENGANZA DE LAS BRUJAS\",\"videoId\":\"y2oZhI1-Kms\"}},{\"type\":\"video\",\"video\":{\"badges\":[],\"isLiveNow\":false,\"lengthSeconds\":984,\"movingThumbnails\":[{\"height\":180,\"url\":\"https:\\/\\/i.ytimg.com\\/an_webp\\/1g2v7yYUnSQ\\/mqdefault_6s.webp?du=3000&sqp=CPyv55YG&rs=AOn4CLDQjOCq9EZucT2y637u-sFjXcvK7g\",\"width\":320}],\"publishedTimeText\":\"2 weeks ago\",\"stats\":{\"views\":285907},\"thumbnails\":[{\"height\":94,\"url\":\"https:\\/\\/i.ytimg.com\\/vi\\/1g2v7yYUnSQ\\/hqdefault.jpg?sqp=-oaymwEbCKgBEF5IVfKriqkDDggBFQAAiEIYAXABwAEG&rs=AOn4CLB-op6ocu1kMZTLkvFWtK9z6eRp-w\",\"width\":168},{\"height\":110,\"url\":\"https:\\/\\/i.ytimg.com\\/vi\\/1g2v7yYUnSQ\\/hqdefault.jpg?sqp=-oaymwEbCMQBEG5IVfKriqkDDggBFQAAiEIYAXABwAEG&rs=AOn4CLDutX8HHFmdi3R5rdtLhPDsyXe-JA\",\"width\":196},{\"height\":138,\"url\":\"https:\\/\\/i.ytimg.com\\/vi\\/1g2v7yYUnSQ\\/hqdefault.jpg?sqp=-oaymwEcCPYBEIoBSFXyq4qpAw4IARUAAIhCGAFwAcABBg==&rs=AOn4CLAgLnUfrVbsNiKDkuJNNGK3KLugoA\",\"width\":246},{\"height\":188,\"url\":\"https:\\/\\/i.ytimg.com\\/vi\\/1g2v7yYUnSQ\\/hqdefault.jpg?sqp=-oaymwEcCNACELwBSFXyq4qpAw4IARUAAIhCGAFwAcABBg==&rs=AOn4CLCZrIAX5BLFGDiBG3iM5n_XLrrN9g\",\"width\":336}],\"title\":\"LA APARECIDA DE LA CURVA\",\"videoId\":\"1g2v7yYUnSQ\"}},{\"type\":\"video\",\"video\":{\"badges\":[],\"isLiveNow\":false,\"lengthSeconds\":1358,\"movingThumbnails\":[{\"height\":180,\"url\":\"https:\\/\\/i.ytimg.com\\/an_webp\\/PxlKwx-yIkg\\/mqdefault_6s.webp?du=3000&sqp=COim55YG&rs=AOn4CLBaSNSjDMWpgkMS-MylkSHiCq6WQg\",\"width\":320}],\"publishedTimeText\":\"2 weeks ago\",\"stats\":{\"views\":300041},\"thumbnails\":[{\"height\":94,\"url\":\"https:\\/\\/i.ytimg.com\\/vi\\/PxlKwx-yIkg\\/hqdefault.jpg?sqp=-oaymwEbCKgBEF5IVfKriqkDDggBFQAAiEIYAXABwAEG&rs=AOn4CLADrKUhzVVTTeE9wPzI6-J0tP_6Aw\",\"width\":168},{\"height\":110,\"url\":\"https:\\/\\/i.ytimg.com\\/vi\\/PxlKwx-yIkg\\/hqdefault.jpg?sqp=-oaymwEbCMQBEG5IVfKriqkDDggBFQAAiEIYAXABwAEG&rs=AOn4CLCGCsTVFGKl9NmKa4NcWjaVeOKD3A\",\"width\":196},{\"height\":138,\"url\":\"https:\\/\\/i.ytimg.com\\/vi\\/PxlKwx-yIkg\\/hqdefault.jpg?sqp=-oaymwEcCPYBEIoBSFXyq4qpAw4IARUAAIhCGAFwAcABBg==&rs=AOn4CLAY7Z2ZqiBuwOdRhs_-QPs3ABAXOw\",\"width\":246},{\"height\":188,\"url\":\"https:\\/\\/i.ytimg.com\\/vi\\/PxlKwx-yIkg\\/hqdefault.jpg?sqp=-oaymwEcCNACELwBSFXyq4qpAw4IARUAAIhCGAFwAcABBg==&rs=AOn4CLDIub3piLiLrLRrXcHNjWojGOmjhQ\",\"width\":336}],\"title\":\"EL FANTASMA DE BACALAR (HISTORIAS PERTURBADORAS EN VIAJES)\",\"videoId\":\"PxlKwx-yIkg\"}},{\"type\":\"video\",\"video\":{\"badges\":[],\"isLiveNow\":false,\"lengthSeconds\":1271,\"movingThumbnails\":[{\"height\":180,\"url\":\"https:\\/\\/i.ytimg.com\\/an_webp\\/ne25hJwl3Qg\\/mqdefault_6s.webp?du=3000&sqp=CKCz55YG&rs=AOn4CLCNcm2WTz74k64BLgUzNKEJcplTwA\",\"width\":320}],\"publishedTimeText\":\"3 weeks ago\",\"stats\":{\"views\":301795},\"thumbnails\":[{\"height\":94,\"url\":\"https:\\/\\/i.ytimg.com\\/vi\\/ne25hJwl3Qg\\/hqdefault.jpg?sqp=-oaymwEbCKgBEF5IVfKriqkDDggBFQAAiEIYAXABwAEG&rs=AOn4CLD_9YqxRfMpgl-cQbHsViBJxfVKow\",\"width\":168},{\"height\":110,\"url\":\"https:\\/\\/i.ytimg.com\\/vi\\/ne25hJwl3Qg\\/hqdefault.jpg?sqp=-oaymwEbCMQBEG5IVfKriqkDDggBFQAAiEIYAXABwAEG&rs=AOn4CLAUiLUEFvld8vBa9cTPHQkDMlQpUQ\",\"width\":196},{\"height\":138,\"url\":\"https:\\/\\/i.ytimg.com\\/vi\\/ne25hJwl3Qg\\/hqdefault.jpg?sqp=-oaymwEcCPYBEIoBSFXyq4qpAw4IARUAAIhCGAFwAcABBg==&rs=AOn4CLA6hHhXPlibXQhd17luHGQ5csOaiA\",\"width\":246},{\"height\":188,\"url\":\"https:\\/\\/i.ytimg.com\\/vi\\/ne25hJwl3Qg\\/hqdefault.jpg?sqp=-oaymwEcCNACELwBSFXyq4qpAw4IARUAAIhCGAFwAcABBg==&rs=AOn4CLDBYnstPTbRKDWo3zy1DOc6etnpkg\",\"width\":336}],\"title\":\"HAY ALGO DEBAJO DE LA CAMA (RECOPILACI\\u00d3N DE HISTORIAS SOBRENATURALES)\",\"videoId\":\"ne25hJwl3Qg\"}},{\"type\":\"video\",\"video\":{\"badges\":[],\"isLiveNow\":false,\"lengthSeconds\":4555,\"movingThumbnails\":[{\"height\":180,\"url\":\"https:\\/\\/i.ytimg.com\\/an_webp\\/PCFIM_Nx0bY\\/mqdefault_6s.webp?du=3000&sqp=CPCS55YG&rs=AOn4CLBpOd0b_sJPsz9FV4xtBfVQUeR5sQ\",\"width\":320}],\"publishedTimeText\":\"3 weeks ago\",\"stats\":{\"views\":509531},\"thumbnails\":[{\"height\":94,\"url\":\"https:\\/\\/i.ytimg.com\\/vi\\/PCFIM_Nx0bY\\/hqdefault.jpg?sqp=-oaymwEbCKgBEF5IVfKriqkDDggBFQAAiEIYAXABwAEG&rs=AOn4CLA4Y800d4kYb611wSe-RntlyHWeYw\",\"width\":168},{\"height\":110,\"url\":\"https:\\/\\/i.ytimg.com\\/vi\\/PCFIM_Nx0bY\\/hqdefault.jpg?sqp=-oaymwEbCMQBEG5IVfKriqkDDggBFQAAiEIYAXABwAEG&rs=AOn4CLAeYirV7y8me4w7Cr4USr90ajUA8w\",\"width\":196},{\"height\":138,\"url\":\"https:\\/\\/i.ytimg.com\\/vi\\/PCFIM_Nx0bY\\/hqdefault.jpg?sqp=-oaymwEcCPYBEIoBSFXyq4qpAw4IARUAAIhCGAFwAcABBg==&rs=AOn4CLD4Q7Gyk7WYaiZR9LmTCiteb2FbQA\",\"width\":246},{\"height\":188,\"url\":\"https:\\/\\/i.ytimg.com\\/vi\\/PCFIM_Nx0bY\\/hqdefault.jpg?sqp=-oaymwEcCNACELwBSFXyq4qpAw4IARUAAIhCGAFwAcABBg==&rs=AOn4CLDhMqt2Z5AKFtWXJItbzwnRfe7_Pg\",\"width\":336}],\"title\":\"TEN PIEDAD DE NOSOTROS (COMPLETA)\",\"videoId\":\"PCFIM_Nx0bY\"}},{\"type\":\"video\",\"video\":{\"badges\":[],\"isLiveNow\":false,\"lengthSeconds\":1307,\"movingThumbnails\":[{\"height\":180,\"url\":\"https:\\/\\/i.ytimg.com\\/an_webp\\/Dife27iOETU\\/mqdefault_6s.webp?du=3000&sqp=COuq55YG&rs=AOn4CLDAnzHs2m4EPi5f2YEy9Ax00qxQ3Q\",\"width\":320}],\"publishedTimeText\":\"1 month ago\",\"stats\":{\"views\":319288},\"thumbnails\":[{\"height\":94,\"url\":\"https:\\/\\/i.ytimg.com\\/vi\\/Dife27iOETU\\/hqdefault.jpg?sqp=-oaymwEbCKgBEF5IVfKriqkDDggBFQAAiEIYAXABwAEG&rs=AOn4CLAhFhG3JJSGW_OcbNXgde3c8eKLtA\",\"width\":168},{\"height\":110,\"url\":\"https:\\/\\/i.ytimg.com\\/vi\\/Dife27iOETU\\/hqdefault.jpg?sqp=-oaymwEbCMQBEG5IVfKriqkDDggBFQAAiEIYAXABwAEG&rs=AOn4CLBCM4RvlJ5ERKeRf5LmnbXB4IeUdA\",\"width\":196},{\"height\":138,\"url\":\"https:\\/\\/i.ytimg.com\\/vi\\/Dife27iOETU\\/hqdefault.jpg?sqp=-oaymwEcCPYBEIoBSFXyq4qpAw4IARUAAIhCGAFwAcABBg==&rs=AOn4CLDl3en2e9N6ayDL0yC33vM1FcPy8A\",\"width\":246},{\"height\":188,\"url\":\"https:\\/\\/i.ytimg.com\\/vi\\/Dife27iOETU\\/hqdefault.jpg?sqp=-oaymwEcCNACELwBSFXyq4qpAw4IARUAAIhCGAFwAcABBg==&rs=AOn4CLDt7EM5mptx84OrDTV2xB2kcn-NGA\",\"width\":336}],\"title\":\"EL VISITANTE NOCTURNO (Y M\\u00c1S HISTORIAS DE HORROR)\",\"videoId\":\"Dife27iOETU\"}},{\"type\":\"video\",\"video\":{\"badges\":[],\"isLiveNow\":false,\"lengthSeconds\":1258,\"movingThumbnails\":[{\"height\":180,\"url\":\"https:\\/\\/i.ytimg.com\\/an_webp\\/1VbogDXloNE\\/mqdefault_6s.webp?du=3000&sqp=CImV55YG&rs=AOn4CLAVtTqrp8QMdu8tXnakC560mO22eA\",\"width\":320}],\"publishedTimeText\":\"1 month ago\",\"stats\":{\"views\":282237},\"thumbnails\":[{\"height\":94,\"url\":\"https:\\/\\/i.ytimg.com\\/vi\\/1VbogDXloNE\\/hqdefault.jpg?sqp=-oaymwEbCKgBEF5IVfKriqkDDggBFQAAiEIYAXABwAEG&rs=AOn4CLAFR9POh72k6rguZq-zCAR69e0sBQ\",\"width\":168},{\"height\":110,\"url\":\"https:\\/\\/i.ytimg.com\\/vi\\/1VbogDXloNE\\/hqdefault.jpg?sqp=-oaymwEbCMQBEG5IVfKriqkDDggBFQAAiEIYAXABwAEG&rs=AOn4CLDA6M-V-F2oU2JfXmW3KvqPY0mOTA\",\"width\":196},{\"height\":138,\"url\":\"https:\\/\\/i.ytimg.com\\/vi\\/1VbogDXloNE\\/hqdefault.jpg?sqp=-oaymwEcCPYBEIoBSFXyq4qpAw4IARUAAIhCGAFwAcABBg==&rs=AOn4CLDWUy5pTGkwbL4JA2elVXodPF3P1A\",\"width\":246},{\"height\":188,\"url\":\"https:\\/\\/i.ytimg.com\\/vi\\/1VbogDXloNE\\/hqdefault.jpg?sqp=-oaymwEcCNACELwBSFXyq4qpAw4IARUAAIhCGAFwAcABBg==&rs=AOn4CLDN8jTUQACN0KKozP_QopQfsComXw\",\"width\":336}],\"title\":\"TEN PIEDAD DE NOSOTROS (PARTE 3)\",\"videoId\":\"1VbogDXloNE\"}},{\"type\":\"video\",\"video\":{\"badges\":[],\"isLiveNow\":false,\"lengthSeconds\":1099,\"movingThumbnails\":[{\"height\":180,\"url\":\"https:\\/\\/i.ytimg.com\\/an_webp\\/EiybiO8h060\\/mqdefault_6s.webp?du=3000&sqp=COet55YG&rs=AOn4CLBEWaKJn00KNQS72JFKuyaESoq9Rg\",\"width\":320}],\"publishedTimeText\":\"1 month ago\",\"stats\":{\"views\":357128},\"thumbnails\":[{\"height\":94,\"url\":\"https:\\/\\/i.ytimg.com\\/vi\\/EiybiO8h060\\/hqdefault.jpg?sqp=-oaymwEbCKgBEF5IVfKriqkDDggBFQAAiEIYAXABwAEG&rs=AOn4CLAvJqvlRUbryrrap6BqxGOwfomOWQ\",\"width\":168},{\"height\":110,\"url\":\"https:\\/\\/i.ytimg.com\\/vi\\/EiybiO8h060\\/hqdefault.jpg?sqp=-oaymwEbCMQBEG5IVfKriqkDDggBFQAAiEIYAXABwAEG&rs=AOn4CLCPiLYQLN7YV9TMsBdPpzBdjrbkRQ\",\"width\":196},{\"height\":138,\"url\":\"https:\\/\\/i.ytimg.com\\/vi\\/EiybiO8h060\\/hqdefault.jpg?sqp=-oaymwEcCPYBEIoBSFXyq4qpAw4IARUAAIhCGAFwAcABBg==&rs=AOn4CLCooGCNFuC4zledbHXq5tObGE9zAg\",\"width\":246},{\"height\":188,\"url\":\"https:\\/\\/i.ytimg.com\\/vi\\/EiybiO8h060\\/hqdefault.jpg?sqp=-oaymwEcCNACELwBSFXyq4qpAw4IARUAAIhCGAFwAcABBg==&rs=AOn4CLCl7aaTRgDFzuFYbXyDEZ3LUPVc7A\",\"width\":336}],\"title\":\"SUCESOS ATERRADORES EN CARRETERAS VOL. 3\",\"videoId\":\"EiybiO8h060\"}},{\"type\":\"video\",\"video\":{\"badges\":[],\"isLiveNow\":false,\"lengthSeconds\":1146,\"movingThumbnails\":[{\"height\":180,\"url\":\"https:\\/\\/i.ytimg.com\\/an_webp\\/ymBHdlk2sjU\\/mqdefault_6s.webp?du=3000&sqp=CLev55YG&rs=AOn4CLB83z4rj-2sX8AmdGMpSjSThdSGWA\",\"width\":320}],\"publishedTimeText\":\"1 month ago\",\"stats\":{\"views\":300347},\"thumbnails\":[{\"height\":94,\"url\":\"https:\\/\\/i.ytimg.com\\/vi\\/ymBHdlk2sjU\\/hqdefault.jpg?sqp=-oaymwEbCKgBEF5IVfKriqkDDggBFQAAiEIYAXABwAEG&rs=AOn4CLA3gjUjIUvJRjmeoAuk-BRqRdJpBA\",\"width\":168},{\"height\":110,\"url\":\"https:\\/\\/i.ytimg.com\\/vi\\/ymBHdlk2sjU\\/hqdefault.jpg?sqp=-oaymwEbCMQBEG5IVfKriqkDDggBFQAAiEIYAXABwAEG&rs=AOn4CLDyZCbINjQaQikX_z1m_aaM9OFSPQ\",\"width\":196},{\"height\":138,\"url\":\"https:\\/\\/i.ytimg.com\\/vi\\/ymBHdlk2sjU\\/hqdefault.jpg?sqp=-oaymwEcCPYBEIoBSFXyq4qpAw4IARUAAIhCGAFwAcABBg==&rs=AOn4CLAXJZiZJJS6XcbVrHmkcxVO4Vs9qw\",\"width\":246},{\"height\":188,\"url\":\"https:\\/\\/i.ytimg.com\\/vi\\/ymBHdlk2sjU\\/hqdefault.jpg?sqp=-oaymwEcCNACELwBSFXyq4qpAw4IARUAAIhCGAFwAcABBg==&rs=AOn4CLDR07hIPxlVVsqTbrS3ewha8AFuYA\",\"width\":336}],\"title\":\"TEN PIEDAD DE NOSTROS (PARTE 2)\",\"videoId\":\"ymBHdlk2sjU\"}},{\"type\":\"video\",\"video\":{\"badges\":[],\"isLiveNow\":false,\"lengthSeconds\":1865,\"movingThumbnails\":[{\"height\":180,\"url\":\"https:\\/\\/i.ytimg.com\\/an_webp\\/nSGQiZP-Z2w\\/mqdefault_6s.webp?du=3000&sqp=CJyi55YG&rs=AOn4CLBIQFOCWgM2wj9kqQWGrb5CYTemoA\",\"width\":320}],\"publishedTimeText\":\"1 month ago\",\"stats\":{\"views\":415809},\"thumbnails\":[{\"height\":94,\"url\":\"https:\\/\\/i.ytimg.com\\/vi\\/nSGQiZP-Z2w\\/hqdefault.jpg?sqp=-oaymwEbCKgBEF5IVfKriqkDDggBFQAAiEIYAXABwAEG&rs=AOn4CLCcNHhQvkbUX28PD-zIGW5s1yKRDQ\",\"width\":168},{\"height\":110,\"url\":\"https:\\/\\/i.ytimg.com\\/vi\\/nSGQiZP-Z2w\\/hqdefault.jpg?sqp=-oaymwEbCMQBEG5IVfKriqkDDggBFQAAiEIYAXABwAEG&rs=AOn4CLDSvuakWBmDaKr_8mGHNa7BvevvfA\",\"width\":196},{\"height\":138,\"url\":\"https:\\/\\/i.ytimg.com\\/vi\\/nSGQiZP-Z2w\\/hqdefault.jpg?sqp=-oaymwEcCPYBEIoBSFXyq4qpAw4IARUAAIhCGAFwAcABBg==&rs=AOn4CLC5NRc_QDvziWT2P88fnrJ_kpwS1g\",\"width\":246},{\"height\":188,\"url\":\"https:\\/\\/i.ytimg.com\\/vi\\/nSGQiZP-Z2w\\/hqdefault.jpg?sqp=-oaymwEcCNACELwBSFXyq4qpAw4IARUAAIhCGAFwAcABBg==&rs=AOn4CLC0m00fkgCAQJd9zJu05UGVUsOCAw\",\"width\":336}],\"title\":\"CANASTA DE HISTORIAS DE HORROR VOL. 26\",\"videoId\":\"nSGQiZP-Z2w\"}},{\"type\":\"video\",\"video\":{\"badges\":[],\"isLiveNow\":false,\"lengthSeconds\":1128,\"movingThumbnails\":[{\"height\":180,\"url\":\"https:\\/\\/i.ytimg.com\\/an_webp\\/Z0FOlhl3rfg\\/mqdefault_6s.webp?du=3000&sqp=CMCc55YG&rs=AOn4CLA5jg08TRNSJu5dQh2DpKTxwoxQ3A\",\"width\":320}],\"publishedTimeText\":\"1 month ago\",\"stats\":{\"views\":363588},\"thumbnails\":[{\"height\":94,\"url\":\"https:\\/\\/i.ytimg.com\\/vi\\/Z0FOlhl3rfg\\/hqdefault.jpg?sqp=-oaymwEbCKgBEF5IVfKriqkDDggBFQAAiEIYAXABwAEG&rs=AOn4CLByjgmcCu0sHD8V5Tx3k17DtzJikg\",\"width\":168},{\"height\":110,\"url\":\"https:\\/\\/i.ytimg.com\\/vi\\/Z0FOlhl3rfg\\/hqdefault.jpg?sqp=-oaymwEbCMQBEG5IVfKriqkDDggBFQAAiEIYAXABwAEG&rs=AOn4CLBn5Qzhvq4tttVDv7T843hNmjHwbw\",\"width\":196},{\"height\":138,\"url\":\"https:\\/\\/i.ytimg.com\\/vi\\/Z0FOlhl3rfg\\/hqdefault.jpg?sqp=-oaymwEcCPYBEIoBSFXyq4qpAw4IARUAAIhCGAFwAcABBg==&rs=AOn4CLD4K_cFYVbBf28W3X9W5iiCMa98pg\",\"width\":246},{\"height\":188,\"url\":\"https:\\/\\/i.ytimg.com\\/vi\\/Z0FOlhl3rfg\\/hqdefault.jpg?sqp=-oaymwEcCNACELwBSFXyq4qpAw4IARUAAIhCGAFwAcABBg==&rs=AOn4CLCSS_bPdiE-R6iReDYAS9glfxVV5A\",\"width\":336}],\"title\":\"TEN PIEDAD DE NOSOTROS (HISTORIA DE TERROR)\",\"videoId\":\"Z0FOlhl3rfg\"}},{\"type\":\"video\",\"video\":{\"badges\":[],\"isLiveNow\":false,\"lengthSeconds\":1976,\"movingThumbnails\":[{\"height\":180,\"url\":\"https:\\/\\/i.ytimg.com\\/an_webp\\/pj1XxK8Crj0\\/mqdefault_6s.webp?du=3000&sqp=CJGs55YG&rs=AOn4CLCHi7UkMaZXD38jt2_slnuxvifOkA\",\"width\":320}],\"publishedTimeText\":\"1 month ago\",\"stats\":{\"views\":382357},\"thumbnails\":[{\"height\":94,\"url\":\"https:\\/\\/i.ytimg.com\\/vi\\/pj1XxK8Crj0\\/hqdefault.jpg?sqp=-oaymwEbCKgBEF5IVfKriqkDDggBFQAAiEIYAXABwAEG&rs=AOn4CLCGDvPIH1osetqqocfRFYUcjpkIEg\",\"width\":168},{\"height\":110,\"url\":\"https:\\/\\/i.ytimg.com\\/vi\\/pj1XxK8Crj0\\/hqdefault.jpg?sqp=-oaymwEbCMQBEG5IVfKriqkDDggBFQAAiEIYAXABwAEG&rs=AOn4CLDn2-9PUtMAPmcHcj7zTLThY_5L4Q\",\"width\":196},{\"height\":138,\"url\":\"https:\\/\\/i.ytimg.com\\/vi\\/pj1XxK8Crj0\\/hqdefault.jpg?sqp=-oaymwEcCPYBEIoBSFXyq4qpAw4IARUAAIhCGAFwAcABBg==&rs=AOn4CLDcvSSNVpVQvSvNhi5ZV0B06-PQBg\",\"width\":246},{\"height\":188,\"url\":\"https:\\/\\/i.ytimg.com\\/vi\\/pj1XxK8Crj0\\/hqdefault.jpg?sqp=-oaymwEcCNACELwBSFXyq4qpAw4IARUAAIhCGAFwAcABBg==&rs=AOn4CLBQWVfDM8SyWiVD1ptVqE3CP0gCVA\",\"width\":336}],\"title\":\"LA BRUJA EN EL VENTANAL (Y OTROS RELATOS)\",\"videoId\":\"pj1XxK8Crj0\"}},{\"type\":\"video\",\"video\":{\"badges\":[],\"isLiveNow\":false,\"lengthSeconds\":1038,\"movingThumbnails\":[{\"height\":180,\"url\":\"https:\\/\\/i.ytimg.com\\/an_webp\\/MSG9rW_nlKs\\/mqdefault_6s.webp?du=3000&sqp=CP2n55YG&rs=AOn4CLBcF8G1Jtvxr7iBxWKgKrRbuKtx_A\",\"width\":320}],\"publishedTimeText\":\"1 month ago\",\"stats\":{\"views\":295899},\"thumbnails\":[{\"height\":94,\"url\":\"https:\\/\\/i.ytimg.com\\/vi\\/MSG9rW_nlKs\\/hqdefault.jpg?sqp=-oaymwEbCKgBEF5IVfKriqkDDggBFQAAiEIYAXABwAEG&rs=AOn4CLCS3Rl2NyDyLER_H4SqfBAkbYj3Hw\",\"width\":168},{\"height\":110,\"url\":\"https:\\/\\/i.ytimg.com\\/vi\\/MSG9rW_nlKs\\/hqdefault.jpg?sqp=-oaymwEbCMQBEG5IVfKriqkDDggBFQAAiEIYAXABwAEG&rs=AOn4CLBjwpMzlBlZLQNV7cgDWuGHkM5Tmg\",\"width\":196},{\"height\":138,\"url\":\"https:\\/\\/i.ytimg.com\\/vi\\/MSG9rW_nlKs\\/hqdefault.jpg?sqp=-oaymwEcCPYBEIoBSFXyq4qpAw4IARUAAIhCGAFwAcABBg==&rs=AOn4CLCL1ZGb4BnIauqXhh1FcYosUzTkUQ\",\"width\":246},{\"height\":188,\"url\":\"https:\\/\\/i.ytimg.com\\/vi\\/MSG9rW_nlKs\\/hqdefault.jpg?sqp=-oaymwEcCNACELwBSFXyq4qpAw4IARUAAIhCGAFwAcABBg==&rs=AOn4CLDNeVd8IAOZ2jsA5MQuDyWHc0GnKg\",\"width\":336}],\"title\":\"LOS RELATOS M\\u00c1S ATERRADORES EN HOTELES VOL. 3\",\"videoId\":\"MSG9rW_nlKs\"}},{\"type\":\"video\",\"video\":{\"badges\":[],\"isLiveNow\":false,\"lengthSeconds\":1621,\"movingThumbnails\":[{\"height\":180,\"url\":\"https:\\/\\/i.ytimg.com\\/an_webp\\/rdNae4vizak\\/mqdefault_6s.webp?du=3000&sqp=CKet55YG&rs=AOn4CLDQ7ywT_GQ34uUlL-7U8D95xh5diw\",\"width\":320}],\"publishedTimeText\":\"1 month ago\",\"stats\":{\"views\":430383},\"thumbnails\":[{\"height\":94,\"url\":\"https:\\/\\/i.ytimg.com\\/vi\\/rdNae4vizak\\/hqdefault.jpg?sqp=-oaymwEbCKgBEF5IVfKriqkDDggBFQAAiEIYAXABwAEG&rs=AOn4CLBrfBqCloAIday0Iq3EnAhzyBE80g\",\"width\":168},{\"height\":110,\"url\":\"https:\\/\\/i.ytimg.com\\/vi\\/rdNae4vizak\\/hqdefault.jpg?sqp=-oaymwEbCMQBEG5IVfKriqkDDggBFQAAiEIYAXABwAEG&rs=AOn4CLCw7dB2Q6BW1wIEYnEjyTSjrsA0Vw\",\"width\":196},{\"height\":138,\"url\":\"https:\\/\\/i.ytimg.com\\/vi\\/rdNae4vizak\\/hqdefault.jpg?sqp=-oaymwEcCPYBEIoBSFXyq4qpAw4IARUAAIhCGAFwAcABBg==&rs=AOn4CLAeD11wjsuPxb3L5eZdm6-qvSfMag\",\"width\":246},{\"height\":188,\"url\":\"https:\\/\\/i.ytimg.com\\/vi\\/rdNae4vizak\\/hqdefault.jpg?sqp=-oaymwEcCNACELwBSFXyq4qpAw4IARUAAIhCGAFwAcABBg==&rs=AOn4CLB3jXSTvexG219zIbQGUVi23dfPsQ\",\"width\":336}],\"title\":\"LAS EXPERIENCIAS PARANORMALES M\\u00c1S EXTRA\\u00d1AS Y PERTURBADORAS\",\"videoId\":\"rdNae4vizak\"}},{\"type\":\"video\",\"video\":{\"badges\":[],\"isLiveNow\":false,\"lengthSeconds\":1499,\"movingThumbnails\":[{\"height\":180,\"url\":\"https:\\/\\/i.ytimg.com\\/an_webp\\/uuQ-JGZDj9s\\/mqdefault_6s.webp?du=3000&sqp=CNL75pYG&rs=AOn4CLA-SC2kY2UszKgsOxHavC7cOq6XGw\",\"width\":320}],\"publishedTimeText\":\"2 months ago\",\"stats\":{\"views\":356579},\"thumbnails\":[{\"height\":94,\"url\":\"https:\\/\\/i.ytimg.com\\/vi\\/uuQ-JGZDj9s\\/hqdefault.jpg?sqp=-oaymwEbCKgBEF5IVfKriqkDDggBFQAAiEIYAXABwAEG&rs=AOn4CLCVdDrpQ-gk4Aplff38YCIBF7KH6A\",\"width\":168},{\"height\":110,\"url\":\"https:\\/\\/i.ytimg.com\\/vi\\/uuQ-JGZDj9s\\/hqdefault.jpg?sqp=-oaymwEbCMQBEG5IVfKriqkDDggBFQAAiEIYAXABwAEG&rs=AOn4CLCYBuJ_2vrr96nW2T2YsNn7ZxIiJg\",\"width\":196},{\"height\":138,\"url\":\"https:\\/\\/i.ytimg.com\\/vi\\/uuQ-JGZDj9s\\/hqdefault.jpg?sqp=-oaymwEcCPYBEIoBSFXyq4qpAw4IARUAAIhCGAFwAcABBg==&rs=AOn4CLAbDhdfWcKbhNEKj4L0HmpMnsJS1w\",\"width\":246},{\"height\":188,\"url\":\"https:\\/\\/i.ytimg.com\\/vi\\/uuQ-JGZDj9s\\/hqdefault.jpg?sqp=-oaymwEcCNACELwBSFXyq4qpAw4IARUAAIhCGAFwAcABBg==&rs=AOn4CLASeJ4w5ccUZaJvGChJGgLl3EbNWQ\",\"width\":336}],\"title\":\"HISTORIAS DE TERROR EN CASAS EMBRUJADAS\",\"videoId\":\"uuQ-JGZDj9s\"}},{\"type\":\"video\",\"video\":{\"badges\":[],\"isLiveNow\":false,\"lengthSeconds\":1605,\"movingThumbnails\":[{\"height\":180,\"url\":\"https:\\/\\/i.ytimg.com\\/an_webp\\/ABOZHxuTkjY\\/mqdefault_6s.webp?du=3000&sqp=CO775pYG&rs=AOn4CLCwpUW2r6KYSuXq6Htg44cRXfUzpw\",\"width\":320}],\"publishedTimeText\":\"2 months ago\",\"stats\":{\"views\":387429},\"thumbnails\":[{\"height\":94,\"url\":\"https:\\/\\/i.ytimg.com\\/vi\\/ABOZHxuTkjY\\/hqdefault.jpg?sqp=-oaymwEbCKgBEF5IVfKriqkDDggBFQAAiEIYAXABwAEG&rs=AOn4CLAIe17_1LBimfTHTLfoyfDj1DpfYw\",\"width\":168},{\"height\":110,\"url\":\"https:\\/\\/i.ytimg.com\\/vi\\/ABOZHxuTkjY\\/hqdefault.jpg?sqp=-oaymwEbCMQBEG5IVfKriqkDDggBFQAAiEIYAXABwAEG&rs=AOn4CLAZuhV75U_n8tYUjK2gwTKd2P300w\",\"width\":196},{\"height\":138,\"url\":\"https:\\/\\/i.ytimg.com\\/vi\\/ABOZHxuTkjY\\/hqdefault.jpg?sqp=-oaymwEcCPYBEIoBSFXyq4qpAw4IARUAAIhCGAFwAcABBg==&rs=AOn4CLAN4z1dMezAqCI-LcUvQHO8Bp8gRA\",\"width\":246},{\"height\":188,\"url\":\"https:\\/\\/i.ytimg.com\\/vi\\/ABOZHxuTkjY\\/hqdefault.jpg?sqp=-oaymwEcCNACELwBSFXyq4qpAw4IARUAAIhCGAFwAcABBg==&rs=AOn4CLB26DDSkqHQzEL2b0H1rS6mZYMcEA\",\"width\":336}],\"title\":\"RELATOS SOBRE CEMENTERIOS QUE NO TE DEJAR\\u00c1N DORMIR\",\"videoId\":\"ABOZHxuTkjY\"}},{\"type\":\"video\",\"video\":{\"badges\":[],\"isLiveNow\":false,\"lengthSeconds\":1631,\"movingThumbnails\":[{\"height\":180,\"url\":\"https:\\/\\/i.ytimg.com\\/an_webp\\/plUh6qO0MkY\\/mqdefault_6s.webp?du=3000&sqp=CJCT55YG&rs=AOn4CLA0j9tIRgIqhOAYGksOgFyJopnh9g\",\"width\":320}],\"publishedTimeText\":\"2 months ago\",\"stats\":{\"views\":341880},\"thumbnails\":[{\"height\":94,\"url\":\"https:\\/\\/i.ytimg.com\\/vi\\/plUh6qO0MkY\\/hqdefault.jpg?sqp=-oaymwEbCKgBEF5IVfKriqkDDggBFQAAiEIYAXABwAEG&rs=AOn4CLBDujTAkCfXX-KG5eHxu4mSYwXZpg\",\"width\":168},{\"height\":110,\"url\":\"https:\\/\\/i.ytimg.com\\/vi\\/plUh6qO0MkY\\/hqdefault.jpg?sqp=-oaymwEbCMQBEG5IVfKriqkDDggBFQAAiEIYAXABwAEG&rs=AOn4CLDYxtr7fgSLTuIN8Db319y57_j7-A\",\"width\":196},{\"height\":138,\"url\":\"https:\\/\\/i.ytimg.com\\/vi\\/plUh6qO0MkY\\/hqdefault.jpg?sqp=-oaymwEcCPYBEIoBSFXyq4qpAw4IARUAAIhCGAFwAcABBg==&rs=AOn4CLCArq7pTya4Q1hJH09E2sF0YmmkPw\",\"width\":246},{\"height\":188,\"url\":\"https:\\/\\/i.ytimg.com\\/vi\\/plUh6qO0MkY\\/hqdefault.jpg?sqp=-oaymwEcCNACELwBSFXyq4qpAw4IARUAAIhCGAFwAcABBg==&rs=AOn4CLAX4DO7BmKTGQt9_EWKHXTdAeSdpA\",\"width\":336}],\"title\":\"LA MONJA DE LA VENTANA (Y M\\u00c1S HISTORIAS DE HORROR PARANORMAL)\",\"videoId\":\"plUh6qO0MkY\"}},{\"type\":\"video\",\"video\":{\"badges\":[],\"isLiveNow\":false,\"lengthSeconds\":1385,\"movingThumbnails\":[{\"height\":180,\"url\":\"https:\\/\\/i.ytimg.com\\/an_webp\\/VGQ96Wulqoc\\/mqdefault_6s.webp?du=3000&sqp=CJWJ55YG&rs=AOn4CLCN5DWH1w1cajUQx0pdGKG2EWPiLQ\",\"width\":320}],\"publishedTimeText\":\"2 months ago\",\"stats\":{\"views\":382691},\"thumbnails\":[{\"height\":94,\"url\":\"https:\\/\\/i.ytimg.com\\/vi\\/VGQ96Wulqoc\\/hqdefault.jpg?sqp=-oaymwEbCKgBEF5IVfKriqkDDggBFQAAiEIYAXABwAEG&rs=AOn4CLCXIpWxqSzhtRgO_DmyJfT0KkhxKw\",\"width\":168},{\"height\":110,\"url\":\"https:\\/\\/i.ytimg.com\\/vi\\/VGQ96Wulqoc\\/hqdefault.jpg?sqp=-oaymwEbCMQBEG5IVfKriqkDDggBFQAAiEIYAXABwAEG&rs=AOn4CLCIm6CrqinZiO1iBLprfaD86DG0LQ\",\"width\":196},{\"height\":138,\"url\":\"https:\\/\\/i.ytimg.com\\/vi\\/VGQ96Wulqoc\\/hqdefault.jpg?sqp=-oaymwEcCPYBEIoBSFXyq4qpAw4IARUAAIhCGAFwAcABBg==&rs=AOn4CLDhvtkzL9wElyfzOREnLepbIpWg5w\",\"width\":246},{\"height\":188,\"url\":\"https:\\/\\/i.ytimg.com\\/vi\\/VGQ96Wulqoc\\/hqdefault.jpg?sqp=-oaymwEcCNACELwBSFXyq4qpAw4IARUAAIhCGAFwAcABBg==&rs=AOn4CLAoSk-eTpf1dVik2JsE1fvKhzZADw\",\"width\":336}],\"title\":\"LOS RELATOS M\\u00c1S PERTURBADORES DE VELADORES\",\"videoId\":\"VGQ96Wulqoc\"}},{\"type\":\"video\",\"video\":{\"badges\":[],\"isLiveNow\":false,\"lengthSeconds\":2218,\"movingThumbnails\":[{\"height\":180,\"url\":\"https:\\/\\/i.ytimg.com\\/an_webp\\/V0brkhs7FHA\\/mqdefault_6s.webp?du=3000&sqp=CJDz5pYG&rs=AOn4CLBS9wks3xZsUQKYiHEWpV3SmGmBOQ\",\"width\":320}],\"publishedTimeText\":\"2 months ago\",\"stats\":{\"views\":472056},\"thumbnails\":[{\"height\":94,\"url\":\"https:\\/\\/i.ytimg.com\\/vi\\/V0brkhs7FHA\\/hqdefault.jpg?sqp=-oaymwEbCKgBEF5IVfKriqkDDggBFQAAiEIYAXABwAEG&rs=AOn4CLAiBVZArU9n3i3WTIsyKCaUUY5JUA\",\"width\":168},{\"height\":110,\"url\":\"https:\\/\\/i.ytimg.com\\/vi\\/V0brkhs7FHA\\/hqdefault.jpg?sqp=-oaymwEbCMQBEG5IVfKriqkDDggBFQAAiEIYAXABwAEG&rs=AOn4CLDNPALS3TPQy9_vDny-rf3bZOPyvg\",\"width\":196},{\"height\":138,\"url\":\"https:\\/\\/i.ytimg.com\\/vi\\/V0brkhs7FHA\\/hqdefault.jpg?sqp=-oaymwEcCPYBEIoBSFXyq4qpAw4IARUAAIhCGAFwAcABBg==&rs=AOn4CLDpe0T2wi94J3uDd78pQbb_iJFrwA\",\"width\":246},{\"height\":188,\"url\":\"https:\\/\\/i.ytimg.com\\/vi\\/V0brkhs7FHA\\/hqdefault.jpg?sqp=-oaymwEcCNACELwBSFXyq4qpAw4IARUAAIhCGAFwAcABBg==&rs=AOn4CLD0bV5kbtKmJiPPlnX6YWpos5EImg\",\"width\":336}],\"title\":\"LA CRIATURA QUE VUELA SOBRE LOS CAMINOS DEL PUEBLO (Y M\\u00c1S RELATOS ATERRADORES)\",\"videoId\":\"V0brkhs7FHA\"}},{\"type\":\"video\",\"video\":{\"badges\":[],\"isLiveNow\":false,\"lengthSeconds\":1361,\"movingThumbnails\":[{\"height\":180,\"url\":\"https:\\/\\/i.ytimg.com\\/an_webp\\/YOmX6_fqeHU\\/mqdefault_6s.webp?du=3000&sqp=CPOT55YG&rs=AOn4CLD7RzqoEA1Fp6hliC2I8iTOfHmtmA\",\"width\":320}],\"publishedTimeText\":\"2 months ago\",\"stats\":{\"views\":370366},\"thumbnails\":[{\"height\":94,\"url\":\"https:\\/\\/i.ytimg.com\\/vi\\/YOmX6_fqeHU\\/hqdefault.jpg?sqp=-oaymwEbCKgBEF5IVfKriqkDDggBFQAAiEIYAXABwAEG&rs=AOn4CLAi4WK3Pawgu5ujgHzXa5G4nFHNMA\",\"width\":168},{\"height\":110,\"url\":\"https:\\/\\/i.ytimg.com\\/vi\\/YOmX6_fqeHU\\/hqdefault.jpg?sqp=-oaymwEbCMQBEG5IVfKriqkDDggBFQAAiEIYAXABwAEG&rs=AOn4CLA2XPUq4_tdVfH0owYZy5T6ndfIsw\",\"width\":196},{\"height\":138,\"url\":\"https:\\/\\/i.ytimg.com\\/vi\\/YOmX6_fqeHU\\/hqdefault.jpg?sqp=-oaymwEcCPYBEIoBSFXyq4qpAw4IARUAAIhCGAFwAcABBg==&rs=AOn4CLDiUTTzI2SHislbGxrOal2lbq7uug\",\"width\":246},{\"height\":188,\"url\":\"https:\\/\\/i.ytimg.com\\/vi\\/YOmX6_fqeHU\\/hqdefault.jpg?sqp=-oaymwEcCNACELwBSFXyq4qpAw4IARUAAIhCGAFwAcABBg==&rs=AOn4CLC_iYX8O-LZz1IcwW5Qvl26I0n6qw\",\"width\":336}],\"title\":\"LAS BRUJAS DE DURANGO Y EXPERIENCIAS PARANORMALES AL ESCUCHAR RDLN\",\"videoId\":\"YOmX6_fqeHU\"}},{\"type\":\"video\",\"video\":{\"badges\":[],\"isLiveNow\":false,\"lengthSeconds\":1171,\"movingThumbnails\":[{\"height\":180,\"url\":\"https:\\/\\/i.ytimg.com\\/an_webp\\/72Tk5o4BfqA\\/mqdefault_6s.webp?du=3000&sqp=CPCK55YG&rs=AOn4CLBlFnI5pVbCdslE3XoD2LDN-S0ZNw\",\"width\":320}],\"publishedTimeText\":\"2 months ago\",\"stats\":{\"views\":288412},\"thumbnails\":[{\"height\":94,\"url\":\"https:\\/\\/i.ytimg.com\\/vi\\/72Tk5o4BfqA\\/hqdefault.jpg?sqp=-oaymwEbCKgBEF5IVfKriqkDDggBFQAAiEIYAXABwAEG&rs=AOn4CLBUwf2YfTYtEGUhxLhbT38OzMmU9g\",\"width\":168},{\"height\":110,\"url\":\"https:\\/\\/i.ytimg.com\\/vi\\/72Tk5o4BfqA\\/hqdefault.jpg?sqp=-oaymwEbCMQBEG5IVfKriqkDDggBFQAAiEIYAXABwAEG&rs=AOn4CLCJM8xfEwrW0oGGBs5NEWgNjoA8AA\",\"width\":196},{\"height\":138,\"url\":\"https:\\/\\/i.ytimg.com\\/vi\\/72Tk5o4BfqA\\/hqdefault.jpg?sqp=-oaymwEcCPYBEIoBSFXyq4qpAw4IARUAAIhCGAFwAcABBg==&rs=AOn4CLDk2_W_EbyJUMy_KYiHT9lrIFQDEA\",\"width\":246},{\"height\":188,\"url\":\"https:\\/\\/i.ytimg.com\\/vi\\/72Tk5o4BfqA\\/hqdefault.jpg?sqp=-oaymwEcCNACELwBSFXyq4qpAw4IARUAAIhCGAFwAcABBg==&rs=AOn4CLCwZRLPcnHyhb0EadsBvONmlvq0Jw\",\"width\":336}],\"title\":\"A\\u00daN SE ESCUCHA LA MECEDORA DE LA ABUELA (Y OTROS RELATOS)\",\"videoId\":\"72Tk5o4BfqA\"}},{\"type\":\"video\",\"video\":{\"badges\":[],\"isLiveNow\":false,\"lengthSeconds\":1123,\"movingThumbnails\":[{\"height\":180,\"url\":\"https:\\/\\/i.ytimg.com\\/an_webp\\/71gVkXSJJ1U\\/mqdefault_6s.webp?du=3000&sqp=CLGK55YG&rs=AOn4CLA19SWMxeymbGaq3uyF-daBFwvpoA\",\"width\":320}],\"publishedTimeText\":\"2 months ago\",\"stats\":{\"views\":389952},\"thumbnails\":[{\"height\":94,\"url\":\"https:\\/\\/i.ytimg.com\\/vi\\/71gVkXSJJ1U\\/hqdefault.jpg?sqp=-oaymwEbCKgBEF5IVfKriqkDDggBFQAAiEIYAXABwAEG&rs=AOn4CLCmlOn_YNdg7mk436X_XoaHWT6AWg\",\"width\":168},{\"height\":110,\"url\":\"https:\\/\\/i.ytimg.com\\/vi\\/71gVkXSJJ1U\\/hqdefault.jpg?sqp=-oaymwEbCMQBEG5IVfKriqkDDggBFQAAiEIYAXABwAEG&rs=AOn4CLAvCFGxrn3oAfdxRmndU1TamXpBOQ\",\"width\":196},{\"height\":138,\"url\":\"https:\\/\\/i.ytimg.com\\/vi\\/71gVkXSJJ1U\\/hqdefault.jpg?sqp=-oaymwEcCPYBEIoBSFXyq4qpAw4IARUAAIhCGAFwAcABBg==&rs=AOn4CLAvE3nuB0onVjU0uVpUBXPbZvZ5dA\",\"width\":246},{\"height\":188,\"url\":\"https:\\/\\/i.ytimg.com\\/vi\\/71gVkXSJJ1U\\/hqdefault.jpg?sqp=-oaymwEcCNACELwBSFXyq4qpAw4IARUAAIhCGAFwAcABBg==&rs=AOn4CLAC7w2lDhwbmFYjflJVaJFBIfXmtg\",\"width\":336}],\"title\":\"NUNCA ABRAS LA PUERTA SI LA TOCAN DE MADRUGADA (Y OTROS RELATOS)\",\"videoId\":\"71gVkXSJJ1U\"}},{\"type\":\"video\",\"video\":{\"badges\":[],\"isLiveNow\":false,\"lengthSeconds\":1033,\"movingThumbnails\":[{\"height\":180,\"url\":\"https:\\/\\/i.ytimg.com\\/an_webp\\/MA40XfH-gTw\\/mqdefault_6s.webp?du=3000&sqp=CNSr55YG&rs=AOn4CLDNkX2A4fT2c0fV1veI8KI-a45VMw\",\"width\":320}],\"publishedTimeText\":\"2 months ago\",\"stats\":{\"views\":306924},\"thumbnails\":[{\"height\":94,\"url\":\"https:\\/\\/i.ytimg.com\\/vi\\/MA40XfH-gTw\\/hqdefault.jpg?sqp=-oaymwEbCKgBEF5IVfKriqkDDggBFQAAiEIYAXABwAEG&rs=AOn4CLDHIJPBCpgQK-gb5gJW25wC2tpF_g\",\"width\":168},{\"height\":110,\"url\":\"https:\\/\\/i.ytimg.com\\/vi\\/MA40XfH-gTw\\/hqdefault.jpg?sqp=-oaymwEbCMQBEG5IVfKriqkDDggBFQAAiEIYAXABwAEG&rs=AOn4CLCjNh8CeBVh4TY0Qb7eudvKjEyIOA\",\"width\":196},{\"height\":138,\"url\":\"https:\\/\\/i.ytimg.com\\/vi\\/MA40XfH-gTw\\/hqdefault.jpg?sqp=-oaymwEcCPYBEIoBSFXyq4qpAw4IARUAAIhCGAFwAcABBg==&rs=AOn4CLAxms65gWR5RA-l0vsnWU03Z3V5Gw\",\"width\":246},{\"height\":188,\"url\":\"https:\\/\\/i.ytimg.com\\/vi\\/MA40XfH-gTw\\/hqdefault.jpg?sqp=-oaymwEcCNACELwBSFXyq4qpAw4IARUAAIhCGAFwAcABBg==&rs=AOn4CLBxN16eHvMquIF_NUAo_SU-xBJM3A\",\"width\":336}],\"title\":\"ALGUIEN TOCA MI VENTANA EN EL D\\u00c9CIMO PISO (Y OTRAS HISTORIAS)\",\"videoId\":\"MA40XfH-gTw\"}},{\"type\":\"video\",\"video\":{\"badges\":[],\"isLiveNow\":false,\"lengthSeconds\":1300,\"movingThumbnails\":[{\"height\":180,\"url\":\"https:\\/\\/i.ytimg.com\\/an_webp\\/Q6rZjwp352c\\/mqdefault_6s.webp?du=3000&sqp=COuW55YG&rs=AOn4CLAe3EsUyhHqfnVrBWdc-5HIlblQGg\",\"width\":320}],\"publishedTimeText\":\"3 months ago\",\"stats\":{\"views\":333169},\"thumbnails\":[{\"height\":94,\"url\":\"https:\\/\\/i.ytimg.com\\/vi\\/Q6rZjwp352c\\/hqdefault.jpg?sqp=-oaymwEbCKgBEF5IVfKriqkDDggBFQAAiEIYAXABwAEG&rs=AOn4CLDQSnExENTyLwHVNssDhBzw3bM_Jw\",\"width\":168},{\"height\":110,\"url\":\"https:\\/\\/i.ytimg.com\\/vi\\/Q6rZjwp352c\\/hqdefault.jpg?sqp=-oaymwEbCMQBEG5IVfKriqkDDggBFQAAiEIYAXABwAEG&rs=AOn4CLCXR9dtHet8ZpBTrnpXSuLDlBPqNA\",\"width\":196},{\"height\":138,\"url\":\"https:\\/\\/i.ytimg.com\\/vi\\/Q6rZjwp352c\\/hqdefault.jpg?sqp=-oaymwEcCPYBEIoBSFXyq4qpAw4IARUAAIhCGAFwAcABBg==&rs=AOn4CLCuagzO-YDu8LkvpZJmGh-u40L1-A\",\"width\":246},{\"height\":188,\"url\":\"https:\\/\\/i.ytimg.com\\/vi\\/Q6rZjwp352c\\/hqdefault.jpg?sqp=-oaymwEcCNACELwBSFXyq4qpAw4IARUAAIhCGAFwAcABBg==&rs=AOn4CLB9bjSlvOs2PiWZ320DZP7qIlOk5Q\",\"width\":336}],\"title\":\"LA VIRGEN EN LA CARRETERA (Y M\\u00c1S EXPERIENCIAS MACABRAS CON FIGURAS RELIGIOSAS)\",\"videoId\":\"Q6rZjwp352c\"}},{\"type\":\"video\",\"video\":{\"badges\":[],\"isLiveNow\":false,\"lengthSeconds\":1351,\"movingThumbnails\":[{\"height\":180,\"url\":\"https:\\/\\/i.ytimg.com\\/an_webp\\/K9iU1_uCS2w\\/mqdefault_6s.webp?du=3000&sqp=CNyu55YG&rs=AOn4CLCFTmgsV2eiDvQatpBFOJUHEV5rag\",\"width\":320}],\"publishedTimeText\":\"3 months ago\",\"stats\":{\"views\":343176},\"thumbnails\":[{\"height\":94,\"url\":\"https:\\/\\/i.ytimg.com\\/vi\\/K9iU1_uCS2w\\/hqdefault.jpg?sqp=-oaymwEbCKgBEF5IVfKriqkDDggBFQAAiEIYAXABwAEG&rs=AOn4CLAhbUjBMn6kbfb4uKAyuEpJ9EkwYA\",\"width\":168},{\"height\":110,\"url\":\"https:\\/\\/i.ytimg.com\\/vi\\/K9iU1_uCS2w\\/hqdefault.jpg?sqp=-oaymwEbCMQBEG5IVfKriqkDDggBFQAAiEIYAXABwAEG&rs=AOn4CLBKqzL7I8rFYR8vOJPkEoNTe-Bjfg\",\"width\":196},{\"height\":138,\"url\":\"https:\\/\\/i.ytimg.com\\/vi\\/K9iU1_uCS2w\\/hqdefault.jpg?sqp=-oaymwEcCPYBEIoBSFXyq4qpAw4IARUAAIhCGAFwAcABBg==&rs=AOn4CLDxT-K8HP3gWHLR-MlakUKSlmyFXQ\",\"width\":246},{\"height\":188,\"url\":\"https:\\/\\/i.ytimg.com\\/vi\\/K9iU1_uCS2w\\/hqdefault.jpg?sqp=-oaymwEcCNACELwBSFXyq4qpAw4IARUAAIhCGAFwAcABBg==&rs=AOn4CLAg0YffbAsdqrQvnZ6w0VNyrGA7Cg\",\"width\":336}],\"title\":\"LA PROCESI\\u00d3N FANTASMA DE VIERNES SANTO\",\"videoId\":\"K9iU1_uCS2w\"}},{\"type\":\"video\",\"video\":{\"badges\":[],\"isLiveNow\":false,\"lengthSeconds\":1474,\"movingThumbnails\":[{\"height\":180,\"url\":\"https:\\/\\/i.ytimg.com\\/an_webp\\/seFaaxbrfUI\\/mqdefault_6s.webp?du=3000&sqp=CPD05pYG&rs=AOn4CLCIeXF3vjQoEhv32sNo8hNSTNX0Mw\",\"width\":320}],\"publishedTimeText\":\"3 months ago\",\"stats\":{\"views\":393847},\"thumbnails\":[{\"height\":94,\"url\":\"https:\\/\\/i.ytimg.com\\/vi\\/seFaaxbrfUI\\/hqdefault.jpg?sqp=-oaymwEbCKgBEF5IVfKriqkDDggBFQAAiEIYAXABwAEG&rs=AOn4CLBG7RzL5uEP9YTsAnNIHj8E-6MpIg\",\"width\":168},{\"height\":110,\"url\":\"https:\\/\\/i.ytimg.com\\/vi\\/seFaaxbrfUI\\/hqdefault.jpg?sqp=-oaymwEbCMQBEG5IVfKriqkDDggBFQAAiEIYAXABwAEG&rs=AOn4CLART9mne7Rn1t7r0sT5F3P7V09f7A\",\"width\":196},{\"height\":138,\"url\":\"https:\\/\\/i.ytimg.com\\/vi\\/seFaaxbrfUI\\/hqdefault.jpg?sqp=-oaymwEcCPYBEIoBSFXyq4qpAw4IARUAAIhCGAFwAcABBg==&rs=AOn4CLDP7fmHrcyk94nyeb7nvgcz3hmXvw\",\"width\":246},{\"height\":188,\"url\":\"https:\\/\\/i.ytimg.com\\/vi\\/seFaaxbrfUI\\/hqdefault.jpg?sqp=-oaymwEcCNACELwBSFXyq4qpAw4IARUAAIhCGAFwAcABBg==&rs=AOn4CLDz7m2tzYPNTt-OWltexNjcZ4UcRw\",\"width\":336}],\"title\":\"CANASTA DE HISTORIAS DE HORROR VOL. 25\",\"videoId\":\"seFaaxbrfUI\"}},{\"type\":\"video\",\"video\":{\"badges\":[],\"isLiveNow\":false,\"lengthSeconds\":1364,\"movingThumbnails\":[{\"height\":180,\"url\":\"https:\\/\\/i.ytimg.com\\/an_webp\\/2Nhtwg07jkM\\/mqdefault_6s.webp?du=3000&sqp=CLXz5pYG&rs=AOn4CLCLpy4ruffDm5h1nH8LWG01CO4izQ\",\"width\":320}],\"publishedTimeText\":\"3 months ago\",\"stats\":{\"views\":324166},\"thumbnails\":[{\"height\":94,\"url\":\"https:\\/\\/i.ytimg.com\\/vi\\/2Nhtwg07jkM\\/hqdefault.jpg?sqp=-oaymwEbCKgBEF5IVfKriqkDDggBFQAAiEIYAXABwAEG&rs=AOn4CLAsVt0bG5J42kgUKFXjI5-7K08rmA\",\"width\":168},{\"height\":110,\"url\":\"https:\\/\\/i.ytimg.com\\/vi\\/2Nhtwg07jkM\\/hqdefault.jpg?sqp=-oaymwEbCMQBEG5IVfKriqkDDggBFQAAiEIYAXABwAEG&rs=AOn4CLBfldTgSyfFYUCnsWhiC5FTItgvPw\",\"width\":196},{\"height\":138,\"url\":\"https:\\/\\/i.ytimg.com\\/vi\\/2Nhtwg07jkM\\/hqdefault.jpg?sqp=-oaymwEcCPYBEIoBSFXyq4qpAw4IARUAAIhCGAFwAcABBg==&rs=AOn4CLD-JGRsxps_1n5Qp3EgoSVHOarBDA\",\"width\":246},{\"height\":188,\"url\":\"https:\\/\\/i.ytimg.com\\/vi\\/2Nhtwg07jkM\\/hqdefault.jpg?sqp=-oaymwEcCNACELwBSFXyq4qpAw4IARUAAIhCGAFwAcABBg==&rs=AOn4CLAQF_ev4zLQLC7KXYrTNV0jsgAalw\",\"width\":336}],\"title\":\"LAS HISTORIAS M\\u00c1S ATERRADORAS DE FALLAS EN LA REALIDAD\",\"videoId\":\"2Nhtwg07jkM\"}}],\"cursorNext\":\"4qmFsgJ_EhhVQ0dkUWx2M3diUVBLNkl2M1lBWXZUS0EaNEVnWjJhV1JsYjNNWUF5QUFNQUU0QWVvREZFVm5jMGwzTlhwMU5tRkRORzB0ZWxsQlUyZDWaAixicm93c2UtZmVlZFVDR2RRbHYzd2JRUEs2SXYzWUFZdlRLQXZpZGVvczEwMg%3D%3D\"}\n"
     ]
    }
   ],
   "source": [
    "import requests\n",
    "\n",
    "url = \"https://youtube138.p.rapidapi.com/channel/videos/\"\n",
    "\n",
    "querystring = {\"id\":\"UCGdQlv3wbQPK6Iv3YAYvTKA\",\"hl\":\"en\",\"gl\":\"US\"}\n",
    "\n",
    "headers = {\n",
    "\t\"X-RapidAPI-Key\": \"e19b39386dmsh0f3da243ce83ae0p1356f7jsn658330cccb16\",\n",
    "\t\"X-RapidAPI-Host\": \"youtube138.p.rapidapi.com\"\n",
    "}\n",
    "\n",
    "response = requests.request(\"GET\", url, headers=headers, params=querystring)\n",
    "\n",
    "print(response.text)"
   ]
  },
  {
   "cell_type": "markdown",
   "metadata": {},
   "source": [
    "### Diccionarios <'dict'> estructura de datos en formato clave, valor"
   ]
  },
  {
   "cell_type": "code",
   "execution_count": 7,
   "metadata": {},
   "outputs": [],
   "source": [
    "datos_juan = {\n",
    "    'nombre': 'Juan',\n",
    "    'apellido': 'Perez',\n",
    "}"
   ]
  },
  {
   "cell_type": "code",
   "execution_count": 10,
   "metadata": {},
   "outputs": [
    {
     "data": {
      "text/plain": [
       "{'nombre': 'Juan', 'apellido': 'Perez', 'edad': 35}"
      ]
     },
     "execution_count": 10,
     "metadata": {},
     "output_type": "execute_result"
    }
   ],
   "source": [
    "datos_juan['edad'] = 35\n",
    "datos_juan"
   ]
  },
  {
   "cell_type": "code",
   "execution_count": 12,
   "metadata": {},
   "outputs": [
    {
     "data": {
      "text/plain": [
       "{'nombre': 'Juan',\n",
       " 'apellido': 'Perez',\n",
       " 'edad': 35,\n",
       " 'trabajo': {'principal': 'caza vampiros', 'secundario': 'vende cartulinas'}}"
      ]
     },
     "execution_count": 12,
     "metadata": {},
     "output_type": "execute_result"
    }
   ],
   "source": [
    "datos_juan['trabajo'] = {'principal': 'caza vampiros', 'secundario': 'vende cartulinas'}\n",
    "datos_juan"
   ]
  },
  {
   "cell_type": "code",
   "execution_count": 14,
   "metadata": {},
   "outputs": [
    {
     "data": {
      "text/plain": [
       "'caza vampiros'"
      ]
     },
     "execution_count": 14,
     "metadata": {},
     "output_type": "execute_result"
    }
   ],
   "source": [
    "datos_juan['trabajo']['principal']"
   ]
  },
  {
   "cell_type": "markdown",
   "metadata": {},
   "source": [
    "#### Ejercicio: Años perro\n",
    "\n",
    "Crear un programa que pida ingresar una edad y devuelva el equivalente de esas edad en años perro."
   ]
  },
  {
   "cell_type": "code",
   "execution_count": 34,
   "metadata": {},
   "outputs": [
    {
     "name": "stdout",
     "output_type": "stream",
     "text": [
      "Ingrese los años humanos.\n",
      "3\n",
      "Sólo podés ingresar números\n"
     ]
    }
   ],
   "source": [
    "# x = int(input(\"Ingrese los años humanos.\\n\"))\n",
    "# otra forma\n",
    "\n",
    "x = input(\"Ingrese los años humanos.\\n\")\n",
    "\n",
    "if isinstance(x, int):\n",
    "    print(\"La edad en perro es de {} años.\". format(x*7))\n",
    "else:\n",
    "    print(\"Sólo podés ingresar números\")"
   ]
  },
  {
   "cell_type": "markdown",
   "metadata": {},
   "source": [
    "La función `isinstance()` devuelve True si el objeto especificado es del tipo especificado, en caso contrario False.  \n",
    "Si el parámetro de tipo es una tupla, esta función devolverá True si el objeto es uno de los tipos de la tupla."
   ]
  },
  {
   "cell_type": "code",
   "execution_count": 35,
   "metadata": {},
   "outputs": [
    {
     "name": "stdout",
     "output_type": "stream",
     "text": [
      "Ingrese los años humanos.\n",
      "a\n",
      "Sólo podés ingresar números\n",
      "Ta mal! invalid literal for int() with base 10: 'a'\n"
     ]
    }
   ],
   "source": [
    "# otra forma más. SIEMPRE SE USA ESTE MODO!!\n",
    "x = input(\"Ingrese los años humanos.\\n\")\n",
    "\n",
    "try:\n",
    "    x = int(x)\n",
    "    print(\"La edad en perro es de {} años.\". format(x*7))\n",
    "except Exception as error:\n",
    "    print(\"Sólo podés ingresar números\")\n",
    "    print(\"Ta mal!\", error)"
   ]
  },
  {
   "cell_type": "markdown",
   "metadata": {},
   "source": [
    "Ver https://www.w3schools.com/python/python_try_except.asp:\n",
    "\n",
    "El bloque `try` le permite probar un bloque de código en busca de errores.\n",
    "\n",
    "El bloque `except` le permite manejar el error.\n",
    "\n",
    "El bloque `else` permite ejecutar el código cuando no hay ningún error.\n",
    "\n",
    "El bloque `finally` permite ejecutar código, independientemente del resultado de los bloques try y except."
   ]
  },
  {
   "cell_type": "markdown",
   "metadata": {},
   "source": [
    "### Bucles\n",
    "\n",
    "Los bucles son otra herramienta para alterar el flujo normal de un programa. Nos permiten repetir una porción de código tantas veces como queramos. Python incluye únicamente dos tipos de bucle: _while_ y _for_. Más info [acá](https://tutorial.recursospython.com/bucles/).\n",
    "\n",
    "Los _for_ pueden anidarse. Estos son para __for__:"
   ]
  },
  {
   "cell_type": "code",
   "execution_count": 6,
   "metadata": {},
   "outputs": [
    {
     "name": "stdout",
     "output_type": "stream",
     "text": [
      "1\n",
      "2\n",
      "3\n",
      "4\n",
      "5\n",
      "6\n",
      "7\n",
      "8\n",
      "9\n",
      "10\n"
     ]
    }
   ],
   "source": [
    "for i in range(1,11):\n",
    "    print(i)"
   ]
  },
  {
   "cell_type": "code",
   "execution_count": 7,
   "metadata": {},
   "outputs": [
    {
     "name": "stdout",
     "output_type": "stream",
     "text": [
      "3 * 1 = 3\n",
      "3 * 2 = 6\n",
      "3 * 3 = 9\n",
      "3 * 4 = 12\n",
      "3 * 5 = 15\n",
      "3 * 6 = 18\n",
      "3 * 7 = 21\n",
      "3 * 8 = 24\n",
      "3 * 9 = 27\n",
      "3 * 10 = 30\n"
     ]
    }
   ],
   "source": [
    "# podemos hacer una tabla de multiplicar\n",
    "for i in range(1,11):\n",
    "    print(\"3 * {} = {}\".format(i,i*3))"
   ]
  },
  {
   "cell_type": "code",
   "execution_count": 9,
   "metadata": {},
   "outputs": [
    {
     "name": "stdout",
     "output_type": "stream",
     "text": [
      "carl\n",
      "big smoke\n",
      "ryder\n"
     ]
    }
   ],
   "source": [
    "gente = ['Carl', 'Big Smoke', 'Ryder']\n",
    "for i in gente:\n",
    "    print(i.lower()) # todos los nombres a minúsculas"
   ]
  },
  {
   "cell_type": "code",
   "execution_count": 11,
   "metadata": {},
   "outputs": [
    {
     "data": {
      "text/plain": [
       "['carl', 'big smoke', 'ryder']"
      ]
     },
     "execution_count": 11,
     "metadata": {},
     "output_type": "execute_result"
    }
   ],
   "source": [
    "# más formas\n",
    "clean_gente = [] # lista\n",
    "for i in gente: # 'gente' está en mayus las iniciales\n",
    "    clean_gente.append(i.lower()) # agregamos minúscula 'lower' para crear la variable nueva\n",
    "clean_gente"
   ]
  },
  {
   "cell_type": "markdown",
   "metadata": {},
   "source": [
    "Vamos con __while__:"
   ]
  },
  {
   "cell_type": "code",
   "execution_count": 25,
   "metadata": {},
   "outputs": [
    {
     "name": "stdout",
     "output_type": "stream",
     "text": [
      "1\n",
      "2\n",
      "3\n",
      "4\n",
      "5\n",
      "6\n",
      "7\n",
      "8\n",
      "9\n",
      "10\n"
     ]
    }
   ],
   "source": [
    "# import time # es didáctico el uso. módulo para darle un tiempo a la ejecución (en segundos)\n",
    "\n",
    "x = 0\n",
    "\n",
    "while x < 10:\n",
    "    x += 1 # por eso cuando quería sumar con \"+\" sólo concatenaba\n",
    "    print(x)\n",
    "    # time.sleep(.25) # sleep, función nativa"
   ]
  },
  {
   "cell_type": "code",
   "execution_count": 31,
   "metadata": {},
   "outputs": [
    {
     "data": {
      "text/plain": [
       "[1, 2, 3, 1, 5, 1, 2]"
      ]
     },
     "execution_count": 31,
     "metadata": {},
     "output_type": "execute_result"
    }
   ],
   "source": [
    "list1 = [1,2,3,1,5,1,2]\n",
    "list1"
   ]
  },
  {
   "cell_type": "code",
   "execution_count": 32,
   "metadata": {},
   "outputs": [
    {
     "data": {
      "text/plain": [
       "[1, 2, 3, 5]"
      ]
     },
     "execution_count": 32,
     "metadata": {},
     "output_type": "execute_result"
    }
   ],
   "source": [
    "# set: estructura de datos parecida a la lista pero que no puede repetir sus valores, sirve para eliminar duplicados\n",
    "set1 = list(set(list1))\n",
    "set1"
   ]
  },
  {
   "cell_type": "code",
   "execution_count": 41,
   "metadata": {},
   "outputs": [
    {
     "name": "stdout",
     "output_type": "stream",
     "text": [
      "1\n",
      "2\n",
      "3\n",
      "4\n",
      "5\n",
      "chau\n"
     ]
    }
   ],
   "source": [
    "# 'break' rompe el bucle\n",
    "x = 0\n",
    "while x < 10: # por condición\n",
    "    x += 1\n",
    "    print(x)\n",
    "    if x == 5: # para darle un tope\n",
    "        break\n",
    "print(\"chau\")"
   ]
  },
  {
   "cell_type": "markdown",
   "metadata": {},
   "source": [
    "## 5. Clase 26/7/2022\n",
    "\n",
    "* Ejercicios integradores\n",
    "\n",
    "#### Repaso\n",
    "\n",
    "Función: recibe un parámetro y lo ejecuta en la consola.\n",
    "\n",
    "Parámetro: valor que se le pasa a la función (string, números).\n",
    "\n",
    "Declarar variable: con `def`. "
   ]
  },
  {
   "cell_type": "code",
   "execution_count": 6,
   "metadata": {},
   "outputs": [],
   "source": [
    "# con retorno. programación funcional, no intencional\n",
    "def suma_2_n(n1,n2): # creo una función. suma dos números, recibe dos argumentos\n",
    "    return n1 + n2 # devuelve la suma de ambos parámetros"
   ]
  },
  {
   "cell_type": "code",
   "execution_count": 11,
   "metadata": {},
   "outputs": [
    {
     "data": {
      "text/plain": [
       "39"
      ]
     },
     "execution_count": 11,
     "metadata": {},
     "output_type": "execute_result"
    }
   ],
   "source": [
    "suma_2_n(5,34)"
   ]
  },
  {
   "cell_type": "code",
   "execution_count": 13,
   "metadata": {},
   "outputs": [],
   "source": [
    "# sin retorno\n",
    "def nn(a, b):\n",
    "    print(a + b)"
   ]
  },
  {
   "cell_type": "code",
   "execution_count": 15,
   "metadata": {},
   "outputs": [
    {
     "name": "stdout",
     "output_type": "stream",
     "text": [
      "7\n"
     ]
    }
   ],
   "source": [
    "retorno = nn(2,5)"
   ]
  },
  {
   "cell_type": "code",
   "execution_count": 18,
   "metadata": {},
   "outputs": [
    {
     "name": "stdout",
     "output_type": "stream",
     "text": [
      "None\n"
     ]
    }
   ],
   "source": [
    "print(retorno) # da None"
   ]
  },
  {
   "cell_type": "code",
   "execution_count": 20,
   "metadata": {},
   "outputs": [],
   "source": [
    "def calcular_area_triangulo(base, altura):\n",
    "    base_altura = base * altura\n",
    "    area = base_altura / 2\n",
    "    return area"
   ]
  },
  {
   "cell_type": "code",
   "execution_count": 21,
   "metadata": {},
   "outputs": [
    {
     "name": "stdout",
     "output_type": "stream",
     "text": [
      "6.0\n",
      "15.0\n"
     ]
    }
   ],
   "source": [
    "print(calcular_area_triangulo(3,4)) # 6\n",
    "print(calcular_area_triangulo(5,6)) # 15"
   ]
  },
  {
   "cell_type": "code",
   "execution_count": 31,
   "metadata": {},
   "outputs": [],
   "source": [
    "def es_mayor_de_edad(edad):\n",
    "    if edad >= 18:\n",
    "        return True\n",
    "    else:\n",
    "        return False"
   ]
  },
  {
   "cell_type": "code",
   "execution_count": 33,
   "metadata": {},
   "outputs": [
    {
     "name": "stdout",
     "output_type": "stream",
     "text": [
      "False\n"
     ]
    }
   ],
   "source": [
    "print(es_mayor_de_edad(2))"
   ]
  },
  {
   "cell_type": "markdown",
   "metadata": {},
   "source": [
    "### Teoría"
   ]
  },
  {
   "cell_type": "code",
   "execution_count": 2,
   "metadata": {},
   "outputs": [
    {
     "name": "stdout",
     "output_type": "stream",
     "text": [
      "Manzana\n",
      "Banana\n",
      "Naranja\n",
      "Fruta: Manzana en la vuelta 1\n",
      "Fruta: Banana en la vuelta 2\n",
      "Fruta: Naranja en la vuelta 3\n"
     ]
    }
   ],
   "source": [
    "# for con enumerate: nos permite contar las vueltas del bucle\n",
    "listf = ['Manzana', 'Banana', 'Naranja']\n",
    "\n",
    "for fruta in listf:\n",
    "    print(fruta)\n",
    "\n",
    "for vuelta, fruta in enumerate(listf):\n",
    "    print(\"Fruta: {} en la vuelta {}\".format(fruta, vuelta + 1)) # +1 para no arrancar de 0\n",
    "\n",
    "for i in range(0, 10): # lugar\n",
    "    pass"
   ]
  },
  {
   "cell_type": "code",
   "execution_count": 4,
   "metadata": {},
   "outputs": [
    {
     "name": "stdout",
     "output_type": "stream",
     "text": [
      "arranco a esperar\n",
      "termino de esperar\n"
     ]
    }
   ],
   "source": [
    "# Módulos: from e import\n",
    "import time # guarda la librería entera en la memoria\n",
    "\n",
    "print(\"arranco a esperar\")\n",
    "\n",
    "time.sleep(5) # la función de time\n",
    "\n",
    "print(\"termino de esperar\")"
   ]
  },
  {
   "cell_type": "code",
   "execution_count": 6,
   "metadata": {},
   "outputs": [
    {
     "name": "stdout",
     "output_type": "stream",
     "text": [
      "arranco a esperar\n",
      "termino de esperar\n"
     ]
    }
   ],
   "source": [
    "from time import sleep # guarda sólo la función sleep de la librería en la memoria\n",
    "\n",
    "print(\"arranco a esperar\")\n",
    "\n",
    "sleep(5)\n",
    "\n",
    "print(\"termino de esperar\")"
   ]
  },
  {
   "cell_type": "markdown",
   "metadata": {},
   "source": [
    "## Repaso 2 de agosto"
   ]
  },
  {
   "cell_type": "code",
   "execution_count": null,
   "metadata": {},
   "outputs": [],
   "source": [
    "lista_de_mercado_tuple = ('leche','azucar')\n",
    "lista_de_mercado_tuple[1] = 'Pan' # Error\n",
    "\n",
    "# Me creo una lista de la tupla\n",
    "lista_lista_de mercado_tupla = list(lista_de_mercado_tuple)\n",
    "\n",
    "# Modifico la lista\n",
    "lista_lista_de_mercado_tupla[1] = 'Pan'\n",
    "\n",
    "# Lo convierto de vuelta en tupla\n",
    "lista_lista_de mercado_tupla_a_tupla = tuple(lista lista de mercado tupla)\n",
    "\n",
    "# Me queda la tupla ( ‘leche','Pan', }\n",
    "\n",
    "lista_de_mercado = set([ 'leche','azucar', 'leche' ]) # no toma repetidos\n",
    "\n",
    "my_dict = {\n",
    "    'key': 'value',\n",
    "    'key':\n",
    "           {        # ta mal, ver...\n",
    "}\n",
    "\n",
    "my_dict\n",
    "\n",
    "############################\n",
    "\n",
    "servicios = ['luz', 'agua', 'gas']\n",
    "servicios_pagos ['luz', 'gas']\n",
    "\n",
    "for s in servicios:\n",
    "    if s in servicios_pagos:\n",
    "         print('pague {}'.format(s))\n",
    "\n"
   ]
  }
 ],
 "metadata": {
  "kernelspec": {
   "display_name": "Python 3 (ipykernel)",
   "language": "python",
   "name": "python3"
  },
  "language_info": {
   "codemirror_mode": {
    "name": "ipython",
    "version": 3
   },
   "file_extension": ".py",
   "mimetype": "text/x-python",
   "name": "python",
   "nbconvert_exporter": "python",
   "pygments_lexer": "ipython3",
   "version": "3.8.10"
  },
  "vscode": {
   "interpreter": {
    "hash": "31f2aee4e71d21fbe5cf8b01ff0e069b9275f58929596ceb00d14d90e3e16cd6"
   }
  }
 },
 "nbformat": 4,
 "nbformat_minor": 4
}
