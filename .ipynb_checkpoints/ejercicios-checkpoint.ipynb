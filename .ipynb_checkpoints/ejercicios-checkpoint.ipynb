{
 "cells": [
  {
   "cell_type": "markdown",
   "id": "b41cf2b4",
   "metadata": {},
   "source": [
    "## Ejercicios del Curso de Introducción a Python de ADA TW\n",
    "\n",
    "Los realizo en un notebook a fin de documentar con mayor comodidad."
   ]
  },
  {
   "cell_type": "markdown",
   "id": "610f9053",
   "metadata": {},
   "source": [
    "**Variables, funciones, datos y operadores**"
   ]
  },
  {
   "cell_type": "code",
   "execution_count": 9,
   "id": "17766599",
   "metadata": {},
   "outputs": [
    {
     "ename": "SyntaxError",
     "evalue": "unexpected EOF while parsing (3848334795.py, line 4)",
     "output_type": "error",
     "traceback": [
      "\u001b[0;36m  File \u001b[0;32m\"/tmp/ipykernel_10325/3848334795.py\"\u001b[0;36m, line \u001b[0;32m4\u001b[0m\n\u001b[0;31m    #proporcion_mercurio = 3\u001b[0m\n\u001b[0m                            ^\u001b[0m\n\u001b[0;31mSyntaxError\u001b[0m\u001b[0;31m:\u001b[0m unexpected EOF while parsing\n"
     ]
    }
   ],
   "source": [
    "# https://www.geeksforgeeks.org/how-to-take-integer-input-in-python/\n",
    "peso = int((input()) # hacemos casting\n",
    "#proporcion_luna = 6\n",
    "#proporcion_mercurio = 3"
   ]
  },
  {
   "cell_type": "code",
   "execution_count": null,
   "id": "6823d277",
   "metadata": {},
   "outputs": [],
   "source": []
  }
 ],
 "metadata": {
  "kernelspec": {
   "display_name": "Python 3 (ipykernel)",
   "language": "python",
   "name": "python3"
  },
  "language_info": {
   "codemirror_mode": {
    "name": "ipython",
    "version": 3
   },
   "file_extension": ".py",
   "mimetype": "text/x-python",
   "name": "python",
   "nbconvert_exporter": "python",
   "pygments_lexer": "ipython3",
   "version": "3.8.10"
  }
 },
 "nbformat": 4,
 "nbformat_minor": 5
}
